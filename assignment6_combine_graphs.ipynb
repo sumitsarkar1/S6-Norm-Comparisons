{
 "cells": [
  {
   "cell_type": "code",
   "execution_count": 1,
   "metadata": {
    "id": "8kH16rnZ7wt_"
   },
   "outputs": [],
   "source": [
    "from __future__ import print_function\n",
    "import torch\n",
    "import torch.nn as nn\n",
    "import torch.nn.functional as F\n",
    "import torch.optim as optim\n",
    "from torchvision import datasets, transforms"
   ]
  },
  {
   "cell_type": "code",
   "execution_count": 2,
   "metadata": {
    "id": "FHffo22p3_57"
   },
   "outputs": [],
   "source": [
    "# Train Phase transformations\n",
    "train_transforms = transforms.Compose([\n",
    "                                     #transforms.Resize((28, 28)),\n",
    "                                     transforms.RandomRotation((-7.0, 7.0), fill=(1,)),\n",
    "                                     #transforms.RandomRotation((-7.0, 7.0)),\n",
    "                                     #transforms.RandomGrayscale(p=0.01),        \n",
    "                                     #transforms.ColorJitter(brightness=0.2, contrast=0.2),\n",
    "                                     transforms.ToTensor(),\n",
    "                                     transforms.Normalize((0.1307,), (0.3081,))\n",
    "                                       # The mean and std have to be sequences (e.g., tuples), therefore you should add a comma after the values. \n",
    "                                       # Note the difference between (0.1307) and (0.1307,)\n",
    "                                       ])\n",
    "\n",
    "# Test Phase transformations\n",
    "test_transforms = transforms.Compose([\n",
    "                                      #  transforms.Resize((28, 28)),\n",
    "                                      #  transforms.ColorJitter(brightness=0.10, contrast=0.1, saturation=0.10, hue=0.1),\n",
    "                                       transforms.ToTensor(),\n",
    "                                       transforms.Normalize((0.1307,), (0.3081,))\n",
    "                                       ])\n"
   ]
  },
  {
   "cell_type": "code",
   "execution_count": 3,
   "metadata": {
    "id": "_4A84rlfDA23"
   },
   "outputs": [
    {
     "name": "stderr",
     "output_type": "stream",
     "text": [
      "/home/rogbot/deepvision/lib/python3.8/site-packages/torchvision/datasets/mnist.py:498: UserWarning: The given NumPy array is not writeable, and PyTorch does not support non-writeable tensors. This means you can write to the underlying (supposedly non-writeable) NumPy array using the tensor. You may want to copy the array to protect its data or make it writeable before converting it to a tensor. This type of warning will be suppressed for the rest of this program. (Triggered internally at  ../torch/csrc/utils/tensor_numpy.cpp:180.)\n",
      "  return torch.from_numpy(parsed.astype(m[2], copy=False)).view(*s)\n"
     ]
    }
   ],
   "source": [
    "train = datasets.MNIST('./data', train=True, download=True, transform=train_transforms)\n",
    "test = datasets.MNIST('./data', train=False, download=True, transform=test_transforms)"
   ]
  },
  {
   "cell_type": "code",
   "execution_count": 4,
   "metadata": {
    "colab": {
     "base_uri": "https://localhost:8080/"
    },
    "id": "C8OLDR79DrHG",
    "outputId": "ead28a8d-d3a0-4344-867a-2b9b829cc77a"
   },
   "outputs": [
    {
     "name": "stdout",
     "output_type": "stream",
     "text": [
      "CUDA Available? True\n"
     ]
    }
   ],
   "source": [
    "SEED = 1\n",
    "\n",
    "# CUDA?\n",
    "cuda = torch.cuda.is_available()\n",
    "print(\"CUDA Available?\", cuda)\n",
    "\n",
    "# For reproducibility\n",
    "torch.manual_seed(SEED)\n",
    "\n",
    "if cuda:\n",
    "    torch.cuda.manual_seed(SEED)\n",
    "\n",
    "# dataloader arguments - something you'll fetch these from cmdprmt\n",
    "dataloader_args = dict(shuffle=True, batch_size=64, num_workers=16, pin_memory=True) if cuda else dict(shuffle=True, batch_size=64)\n",
    "\n",
    "# train dataloader\n",
    "train_loader = torch.utils.data.DataLoader(train, **dataloader_args)\n",
    "\n",
    "# test dataloader\n",
    "test_loader = torch.utils.data.DataLoader(test, **dataloader_args)"
   ]
  },
  {
   "cell_type": "code",
   "execution_count": 5,
   "metadata": {
    "id": "tEM8YabU3_5_"
   },
   "outputs": [],
   "source": [
    "import torch.nn.functional as F\n",
    "dropout_value = 0.01\n",
    "\n",
    "class NetLN(nn.Module):\n",
    "    def __init__(self):\n",
    "        super(NetLN, self).__init__()\n",
    "        # Input Block\n",
    "        self.convblock1 = nn.Sequential(\n",
    "            nn.Conv2d(in_channels=1, out_channels=11, kernel_size=(3, 3), padding=0, bias=False),\n",
    "            nn.ReLU(),\n",
    "            nn.LayerNorm([11, 26, 26]),\n",
    "            nn.Dropout(dropout_value)\n",
    "        ) # output_size = 26\n",
    "\n",
    "        # CONVOLUTION BLOCK 1\n",
    "        self.convblock2 = nn.Sequential(\n",
    "            nn.Conv2d(in_channels=11, out_channels=19, kernel_size=(3, 3), padding=0, bias=False),\n",
    "            nn.ReLU(),\n",
    "            nn.LayerNorm([19, 24, 24]),\n",
    "            nn.Dropout(dropout_value)\n",
    "        ) # output_size = 24\n",
    "\n",
    "        # TRANSITION BLOCK 1\n",
    "        self.convblock3 = nn.Sequential(\n",
    "            nn.Conv2d(in_channels=19, out_channels=10, kernel_size=(1, 1), padding=0, bias=False),\n",
    "            #nn.BatchNorm2d(10),\n",
    "            nn.LayerNorm([10, 24, 24]),\n",
    "\n",
    "        ) # output_size = 24\n",
    "        self.pool1 = nn.MaxPool2d(2, 2) # output_size = 12\n",
    "\n",
    "        # CONVOLUTION BLOCK 2\n",
    "        self.convblock4 = nn.Sequential(\n",
    "            nn.Conv2d(in_channels=10, out_channels=15, kernel_size=(3, 3), padding=0, bias=False),\n",
    "            nn.ReLU(),            \n",
    "            nn.LayerNorm([15, 10, 10]),\n",
    "            nn.Dropout(dropout_value)\n",
    "        ) # output_size = 10\n",
    "        self.convblock5 = nn.Sequential(\n",
    "            nn.Conv2d(in_channels=15, out_channels=15, kernel_size=(3, 3), padding=0, bias=False),\n",
    "            nn.ReLU(),            \n",
    "            nn.LayerNorm([15, 8, 8]),\n",
    "            nn.Dropout(dropout_value)\n",
    "        ) # output_size = 8\n",
    "        self.convblock6 = nn.Sequential(\n",
    "            nn.Conv2d(in_channels=15, out_channels=15, kernel_size=(3, 3), padding=0, bias=False),\n",
    "            nn.ReLU(),            \n",
    "            nn.LayerNorm([15, 6, 6]),\n",
    "            nn.Dropout(dropout_value)\n",
    "        ) # output_size = 6\n",
    "        self.convblock7 = nn.Sequential(\n",
    "            nn.Conv2d(in_channels=15, out_channels=15, kernel_size=(3, 3), padding=1, bias=False),\n",
    "            nn.ReLU(),            \n",
    "            nn.LayerNorm([15, 6, 6]),\n",
    "            nn.Dropout(dropout_value)\n",
    "        ) # output_size = 6\n",
    "        \n",
    "        # OUTPUT BLOCK\n",
    "        self.gap = nn.Sequential(\n",
    "            nn.AvgPool2d(kernel_size=6)\n",
    "        ) # output_size = 1\n",
    "\n",
    "       \n",
    "        self.fc = nn.Sequential(\n",
    "            nn.Linear(15, 10,bias=False),\n",
    "            nn.BatchNorm1d(10),\n",
    "        )\n",
    "\n",
    "    def forward(self, x):\n",
    "        x = self.convblock1(x)\n",
    "        x = self.convblock2(x)\n",
    "        x = self.convblock3(x)\n",
    "        x = self.pool1(x)\n",
    "        x = self.convblock4(x)\n",
    "        x = self.convblock5(x)\n",
    "        x = self.convblock6(x)\n",
    "        x = self.convblock7(x)\n",
    "        x = self.gap(x)   \n",
    "        \n",
    "        x = x.view(x.size(0), -1)\n",
    "        x = self.fc(x)\n",
    "\n",
    "        return F.log_softmax(x, dim=-1)"
   ]
  },
  {
   "cell_type": "code",
   "execution_count": 6,
   "metadata": {
    "colab": {
     "base_uri": "https://localhost:8080/"
    },
    "id": "5skB97zIJQQe",
    "outputId": "b96ab774-b843-4f25-b4bf-84577e6ff233"
   },
   "outputs": [
    {
     "name": "stdout",
     "output_type": "stream",
     "text": [
      "Requirement already satisfied: torchsummary in /home/rogbot/deepvision/lib/python3.8/site-packages (1.5.1)\n",
      "cuda\n",
      "----------------------------------------------------------------\n",
      "        Layer (type)               Output Shape         Param #\n",
      "================================================================\n",
      "            Conv2d-1           [-1, 11, 26, 26]              99\n",
      "              ReLU-2           [-1, 11, 26, 26]               0\n",
      "         LayerNorm-3           [-1, 11, 26, 26]          14,872\n",
      "           Dropout-4           [-1, 11, 26, 26]               0\n",
      "            Conv2d-5           [-1, 19, 24, 24]           1,881\n",
      "              ReLU-6           [-1, 19, 24, 24]               0\n",
      "         LayerNorm-7           [-1, 19, 24, 24]          21,888\n",
      "           Dropout-8           [-1, 19, 24, 24]               0\n",
      "            Conv2d-9           [-1, 10, 24, 24]             190\n",
      "        LayerNorm-10           [-1, 10, 24, 24]          11,520\n",
      "        MaxPool2d-11           [-1, 10, 12, 12]               0\n",
      "           Conv2d-12           [-1, 15, 10, 10]           1,350\n",
      "             ReLU-13           [-1, 15, 10, 10]               0\n",
      "        LayerNorm-14           [-1, 15, 10, 10]           3,000\n",
      "          Dropout-15           [-1, 15, 10, 10]               0\n",
      "           Conv2d-16             [-1, 15, 8, 8]           2,025\n",
      "             ReLU-17             [-1, 15, 8, 8]               0\n",
      "        LayerNorm-18             [-1, 15, 8, 8]           1,920\n",
      "          Dropout-19             [-1, 15, 8, 8]               0\n",
      "           Conv2d-20             [-1, 15, 6, 6]           2,025\n",
      "             ReLU-21             [-1, 15, 6, 6]               0\n",
      "        LayerNorm-22             [-1, 15, 6, 6]           1,080\n",
      "          Dropout-23             [-1, 15, 6, 6]               0\n",
      "           Conv2d-24             [-1, 15, 6, 6]           2,025\n",
      "             ReLU-25             [-1, 15, 6, 6]               0\n",
      "        LayerNorm-26             [-1, 15, 6, 6]           1,080\n",
      "          Dropout-27             [-1, 15, 6, 6]               0\n",
      "        AvgPool2d-28             [-1, 15, 1, 1]               0\n",
      "           Linear-29                   [-1, 10]             150\n",
      "      BatchNorm1d-30                   [-1, 10]              20\n",
      "================================================================\n",
      "Total params: 65,125\n",
      "Trainable params: 65,125\n",
      "Non-trainable params: 0\n",
      "----------------------------------------------------------------\n",
      "Input size (MB): 0.00\n",
      "Forward/backward pass size (MB): 0.77\n",
      "Params size (MB): 0.25\n",
      "Estimated Total Size (MB): 1.02\n",
      "----------------------------------------------------------------\n"
     ]
    }
   ],
   "source": [
    "!pip install torchsummary\n",
    "from torchsummary import summary\n",
    "use_cuda = torch.cuda.is_available()\n",
    "device = torch.device(\"cuda\" if use_cuda else \"cpu\")\n",
    "print(device)\n",
    "modelLN = NetLN().to(device)\n",
    "summary(modelLN, input_size=(1, 28, 28))"
   ]
  },
  {
   "cell_type": "code",
   "execution_count": 7,
   "metadata": {},
   "outputs": [],
   "source": [
    "import torch.nn.functional as F\n",
    "dropout_value = 0.01\n",
    "\n",
    "class NetGN(nn.Module):\n",
    "    def __init__(self):\n",
    "        super(NetGN, self).__init__()\n",
    "        # Input Block\n",
    "        self.convblock1 = nn.Sequential(\n",
    "            nn.Conv2d(in_channels=1, out_channels=11, kernel_size=(3, 3), padding=0, bias=False),\n",
    "            nn.ReLU(),\n",
    "            #nn.BatchNorm2d(11),\n",
    "            nn.GroupNorm(1, 11),\n",
    "            nn.Dropout(dropout_value)\n",
    "        ) # output_size = 26\n",
    "\n",
    "        # CONVOLUTION BLOCK 1\n",
    "        self.convblock2 = nn.Sequential(\n",
    "            nn.Conv2d(in_channels=11, out_channels=19, kernel_size=(3, 3), padding=0, bias=False),\n",
    "            nn.ReLU(),\n",
    "            #nn.BatchNorm2d(19),\n",
    "            nn.GroupNorm(1, 19),\n",
    "            nn.Dropout(dropout_value)\n",
    "        ) # output_size = 24\n",
    "\n",
    "        # TRANSITION BLOCK 1\n",
    "        self.convblock3 = nn.Sequential(\n",
    "            nn.Conv2d(in_channels=19, out_channels=10, kernel_size=(1, 1), padding=0, bias=False),\n",
    "            #nn.BatchNorm2d(10),\n",
    "            nn.GroupNorm(5, 10),\n",
    "\n",
    "        ) # output_size = 24\n",
    "        self.pool1 = nn.MaxPool2d(2, 2) # output_size = 12\n",
    "\n",
    "        # CONVOLUTION BLOCK 2\n",
    "        self.convblock4 = nn.Sequential(\n",
    "            nn.Conv2d(in_channels=10, out_channels=15, kernel_size=(3, 3), padding=0, bias=False),\n",
    "            nn.ReLU(),            \n",
    "            #nn.BatchNorm2d(15),\n",
    "            nn.GroupNorm(5, 15),\n",
    "            nn.Dropout(dropout_value)\n",
    "        ) # output_size = 10\n",
    "        self.convblock5 = nn.Sequential(\n",
    "            nn.Conv2d(in_channels=15, out_channels=15, kernel_size=(3, 3), padding=0, bias=False),\n",
    "            nn.ReLU(),            \n",
    "            #nn.BatchNorm2d(15),\n",
    "            nn.GroupNorm(5, 15),\n",
    "            nn.Dropout(dropout_value)\n",
    "        ) # output_size = 8\n",
    "        self.convblock6 = nn.Sequential(\n",
    "            nn.Conv2d(in_channels=15, out_channels=15, kernel_size=(3, 3), padding=0, bias=False),\n",
    "            nn.ReLU(),            \n",
    "            #nn.BatchNorm2d(15),\n",
    "            nn.GroupNorm(5, 15),\n",
    "            nn.Dropout(dropout_value)\n",
    "        ) # output_size = 6\n",
    "        self.convblock7 = nn.Sequential(\n",
    "            nn.Conv2d(in_channels=15, out_channels=15, kernel_size=(3, 3), padding=1, bias=False),\n",
    "            nn.ReLU(),            \n",
    "            #nn.BatchNorm2d(15),\n",
    "            nn.GroupNorm(5, 15),\n",
    "            nn.Dropout(dropout_value)\n",
    "        ) # output_size = 6\n",
    "        \n",
    "        # OUTPUT BLOCK\n",
    "        self.gap = nn.Sequential(\n",
    "            nn.AvgPool2d(kernel_size=6)\n",
    "        ) # output_size = 1\n",
    "\n",
    "       \n",
    "        self.fc = nn.Sequential(\n",
    "            nn.Linear(15, 10,bias=False),\n",
    "            nn.BatchNorm1d(10),\n",
    "        )\n",
    "\n",
    "    def forward(self, x):\n",
    "        x = self.convblock1(x)\n",
    "        x = self.convblock2(x)\n",
    "        x = self.convblock3(x)\n",
    "        x = self.pool1(x)\n",
    "        x = self.convblock4(x)\n",
    "        x = self.convblock5(x)\n",
    "        x = self.convblock6(x)\n",
    "        x = self.convblock7(x)\n",
    "        x = self.gap(x)   \n",
    "        \n",
    "        x = x.view(x.size(0), -1)\n",
    "        x = self.fc(x)\n",
    "\n",
    "        return F.log_softmax(x, dim=-1)"
   ]
  },
  {
   "cell_type": "code",
   "execution_count": 8,
   "metadata": {},
   "outputs": [
    {
     "name": "stdout",
     "output_type": "stream",
     "text": [
      "----------------------------------------------------------------\n",
      "        Layer (type)               Output Shape         Param #\n",
      "================================================================\n",
      "            Conv2d-1           [-1, 11, 26, 26]              99\n",
      "              ReLU-2           [-1, 11, 26, 26]               0\n",
      "         GroupNorm-3           [-1, 11, 26, 26]              22\n",
      "           Dropout-4           [-1, 11, 26, 26]               0\n",
      "            Conv2d-5           [-1, 19, 24, 24]           1,881\n",
      "              ReLU-6           [-1, 19, 24, 24]               0\n",
      "         GroupNorm-7           [-1, 19, 24, 24]              38\n",
      "           Dropout-8           [-1, 19, 24, 24]               0\n",
      "            Conv2d-9           [-1, 10, 24, 24]             190\n",
      "        GroupNorm-10           [-1, 10, 24, 24]              20\n",
      "        MaxPool2d-11           [-1, 10, 12, 12]               0\n",
      "           Conv2d-12           [-1, 15, 10, 10]           1,350\n",
      "             ReLU-13           [-1, 15, 10, 10]               0\n",
      "        GroupNorm-14           [-1, 15, 10, 10]              30\n",
      "          Dropout-15           [-1, 15, 10, 10]               0\n",
      "           Conv2d-16             [-1, 15, 8, 8]           2,025\n",
      "             ReLU-17             [-1, 15, 8, 8]               0\n",
      "        GroupNorm-18             [-1, 15, 8, 8]              30\n",
      "          Dropout-19             [-1, 15, 8, 8]               0\n",
      "           Conv2d-20             [-1, 15, 6, 6]           2,025\n",
      "             ReLU-21             [-1, 15, 6, 6]               0\n",
      "        GroupNorm-22             [-1, 15, 6, 6]              30\n",
      "          Dropout-23             [-1, 15, 6, 6]               0\n",
      "           Conv2d-24             [-1, 15, 6, 6]           2,025\n",
      "             ReLU-25             [-1, 15, 6, 6]               0\n",
      "        GroupNorm-26             [-1, 15, 6, 6]              30\n",
      "          Dropout-27             [-1, 15, 6, 6]               0\n",
      "        AvgPool2d-28             [-1, 15, 1, 1]               0\n",
      "           Linear-29                   [-1, 10]             150\n",
      "      BatchNorm1d-30                   [-1, 10]              20\n",
      "================================================================\n",
      "Total params: 9,965\n",
      "Trainable params: 9,965\n",
      "Non-trainable params: 0\n",
      "----------------------------------------------------------------\n",
      "Input size (MB): 0.00\n",
      "Forward/backward pass size (MB): 0.77\n",
      "Params size (MB): 0.04\n",
      "Estimated Total Size (MB): 0.81\n",
      "----------------------------------------------------------------\n"
     ]
    }
   ],
   "source": [
    "modelGN = NetGN().to(device)\n",
    "summary(modelGN, input_size=(1, 28, 28))"
   ]
  },
  {
   "cell_type": "code",
   "execution_count": 9,
   "metadata": {},
   "outputs": [],
   "source": [
    "import torch.nn.functional as F\n",
    "dropout_value = 0.01\n",
    "\n",
    "class Net(nn.Module):\n",
    "    def __init__(self):\n",
    "        super(Net, self).__init__()\n",
    "        # Input Block\n",
    "        self.convblock1 = nn.Sequential(\n",
    "            nn.Conv2d(in_channels=1, out_channels=11, kernel_size=(3, 3), padding=0, bias=False),\n",
    "            nn.ReLU(),\n",
    "            nn.BatchNorm2d(11),\n",
    "            nn.Dropout(dropout_value)\n",
    "        ) # output_size = 26\n",
    "\n",
    "        # CONVOLUTION BLOCK 1\n",
    "        self.convblock2 = nn.Sequential(\n",
    "            nn.Conv2d(in_channels=11, out_channels=19, kernel_size=(3, 3), padding=0, bias=False),\n",
    "            nn.ReLU(),\n",
    "            nn.BatchNorm2d(19),\n",
    "            nn.Dropout(dropout_value)\n",
    "        ) # output_size = 24\n",
    "\n",
    "        # TRANSITION BLOCK 1\n",
    "        self.convblock3 = nn.Sequential(\n",
    "            nn.Conv2d(in_channels=19, out_channels=10, kernel_size=(1, 1), padding=0, bias=False),\n",
    "            nn.BatchNorm2d(10),\n",
    "\n",
    "        ) # output_size = 24\n",
    "        self.pool1 = nn.MaxPool2d(2, 2) # output_size = 12\n",
    "\n",
    "        # CONVOLUTION BLOCK 2\n",
    "        self.convblock4 = nn.Sequential(\n",
    "            nn.Conv2d(in_channels=10, out_channels=15, kernel_size=(3, 3), padding=0, bias=False),\n",
    "            nn.ReLU(),            \n",
    "            nn.BatchNorm2d(15),\n",
    "            nn.Dropout(dropout_value)\n",
    "        ) # output_size = 10\n",
    "        self.convblock5 = nn.Sequential(\n",
    "            nn.Conv2d(in_channels=15, out_channels=15, kernel_size=(3, 3), padding=0, bias=False),\n",
    "            nn.ReLU(),            \n",
    "            nn.BatchNorm2d(15),\n",
    "            nn.Dropout(dropout_value)\n",
    "        ) # output_size = 8\n",
    "        self.convblock6 = nn.Sequential(\n",
    "            nn.Conv2d(in_channels=15, out_channels=15, kernel_size=(3, 3), padding=0, bias=False),\n",
    "            nn.ReLU(),            \n",
    "            nn.BatchNorm2d(15),\n",
    "            nn.Dropout(dropout_value)\n",
    "        ) # output_size = 6\n",
    "        self.convblock7 = nn.Sequential(\n",
    "            nn.Conv2d(in_channels=15, out_channels=15, kernel_size=(3, 3), padding=1, bias=False),\n",
    "            nn.ReLU(),            \n",
    "            nn.BatchNorm2d(15),\n",
    "            nn.Dropout(dropout_value)\n",
    "        ) # output_size = 6\n",
    "        \n",
    "        # OUTPUT BLOCK\n",
    "        self.gap = nn.Sequential(\n",
    "            nn.AvgPool2d(kernel_size=6)\n",
    "        ) # output_size = 1\n",
    "       \n",
    "        self.fc = nn.Sequential(\n",
    "            nn.Linear(15, 10,bias=False),\n",
    "            nn.BatchNorm1d(10),\n",
    "        )\n",
    "\n",
    "    def forward(self, x):\n",
    "        x = self.convblock1(x)\n",
    "        x = self.convblock2(x)\n",
    "        x = self.convblock3(x)\n",
    "        x = self.pool1(x)\n",
    "        x = self.convblock4(x)\n",
    "        x = self.convblock5(x)\n",
    "        x = self.convblock6(x)\n",
    "        x = self.convblock7(x)\n",
    "        x = self.gap(x)   \n",
    "        \n",
    "        x = x.view(x.size(0), -1)\n",
    "        x = self.fc(x)\n",
    "\n",
    "        return F.log_softmax(x, dim=-1)"
   ]
  },
  {
   "cell_type": "code",
   "execution_count": 10,
   "metadata": {},
   "outputs": [
    {
     "name": "stdout",
     "output_type": "stream",
     "text": [
      "----------------------------------------------------------------\n",
      "        Layer (type)               Output Shape         Param #\n",
      "================================================================\n",
      "            Conv2d-1           [-1, 11, 26, 26]              99\n",
      "              ReLU-2           [-1, 11, 26, 26]               0\n",
      "       BatchNorm2d-3           [-1, 11, 26, 26]              22\n",
      "            Conv2d-4           [-1, 19, 24, 24]           1,881\n",
      "              ReLU-5           [-1, 19, 24, 24]               0\n",
      "       BatchNorm2d-6           [-1, 19, 24, 24]              38\n",
      "            Conv2d-7           [-1, 10, 24, 24]             190\n",
      "       BatchNorm2d-8           [-1, 10, 24, 24]              20\n",
      "         MaxPool2d-9           [-1, 10, 12, 12]               0\n",
      "           Conv2d-10           [-1, 15, 10, 10]           1,350\n",
      "             ReLU-11           [-1, 15, 10, 10]               0\n",
      "      BatchNorm2d-12           [-1, 15, 10, 10]              30\n",
      "          Dropout-13           [-1, 15, 10, 10]               0\n",
      "           Conv2d-14             [-1, 15, 8, 8]           2,025\n",
      "             ReLU-15             [-1, 15, 8, 8]               0\n",
      "      BatchNorm2d-16             [-1, 15, 8, 8]              30\n",
      "          Dropout-17             [-1, 15, 8, 8]               0\n",
      "           Conv2d-18             [-1, 15, 6, 6]           2,025\n",
      "             ReLU-19             [-1, 15, 6, 6]               0\n",
      "      BatchNorm2d-20             [-1, 15, 6, 6]              30\n",
      "          Dropout-21             [-1, 15, 6, 6]               0\n",
      "           Conv2d-22             [-1, 15, 6, 6]           2,025\n",
      "             ReLU-23             [-1, 15, 6, 6]               0\n",
      "      BatchNorm2d-24             [-1, 15, 6, 6]              30\n",
      "          Dropout-25             [-1, 15, 6, 6]               0\n",
      "        AvgPool2d-26             [-1, 15, 1, 1]               0\n",
      "           Linear-27                   [-1, 10]             150\n",
      "      BatchNorm1d-28                   [-1, 10]              20\n",
      "================================================================\n",
      "Total params: 9,965\n",
      "Trainable params: 9,965\n",
      "Non-trainable params: 0\n",
      "----------------------------------------------------------------\n",
      "Input size (MB): 0.00\n",
      "Forward/backward pass size (MB): 0.63\n",
      "Params size (MB): 0.04\n",
      "Estimated Total Size (MB): 0.67\n",
      "----------------------------------------------------------------\n"
     ]
    }
   ],
   "source": [
    "modelBNL1 = Net().to(device)\n",
    "summary(modelBNL1, input_size=(1, 28, 28))"
   ]
  },
  {
   "cell_type": "code",
   "execution_count": 11,
   "metadata": {
    "id": "fbkF2nN_LYIb"
   },
   "outputs": [],
   "source": [
    "from tqdm import tqdm\n",
    "\n",
    "train_lossesLN = []\n",
    "test_lossesLN = []\n",
    "train_accLN = []\n",
    "test_accLN = []\n",
    "\n",
    "def trainLN(model, device, train_loader, optimizer, epoch):\n",
    "  model.train()\n",
    "  pbar = tqdm(train_loader)\n",
    "  correct = 0\n",
    "  processed = 0\n",
    "  for batch_idx, (data, target) in enumerate(pbar):\n",
    "    # get samples\n",
    "    data, target = data.to(device), target.to(device)\n",
    "\n",
    "    # Init\n",
    "    optimizer.zero_grad()\n",
    "    # In PyTorch, we need to set the gradients to zero before starting to do backpropragation because PyTorch accumulates the gradients on subsequent backward passes. \n",
    "    # Because of this, when you start your training loop, ideally you should zero out the gradients so that you do the parameter update correctly.\n",
    "\n",
    "    # Predict\n",
    "    y_pred = model(data)\n",
    "\n",
    "    # Calculate loss\n",
    "    loss = F.nll_loss(y_pred, target)\n",
    "    train_lossesLN.append(loss)\n",
    "\n",
    "    # Backpropagation\n",
    "    loss.backward()\n",
    "    optimizer.step()\n",
    "\n",
    "    # Update pbar-tqdm\n",
    "    \n",
    "    pred = y_pred.argmax(dim=1, keepdim=True)  # get the index of the max log-probability\n",
    "    correct += pred.eq(target.view_as(pred)).sum().item()\n",
    "    processed += len(data)\n",
    "\n",
    "    pbar.set_description(desc= f'Loss={loss.item()} Batch_id={batch_idx} Accuracy={100*correct/processed:0.2f}')\n",
    "    train_accLN.append(100*correct/processed)\n",
    "\n",
    "def testLN(model, device, test_loader):\n",
    "    model.eval()\n",
    "    test_lossLN = 0\n",
    "    correct = 0\n",
    "    with torch.no_grad():\n",
    "        for data, target in test_loader:\n",
    "            data, target = data.to(device), target.to(device)\n",
    "            output = model(data)\n",
    "            test_lossLN += F.nll_loss(output, target, reduction='sum').item()  # sum up batch loss\n",
    "            pred = output.argmax(dim=1, keepdim=True)  # get the index of the max log-probability\n",
    "            correct += pred.eq(target.view_as(pred)).sum().item()\n",
    "\n",
    "    test_lossLN /= len(test_loader.dataset)\n",
    "    test_lossesLN.append(test_lossLN)\n",
    "\n",
    "    print('\\nTest set: Average loss: {:.4f}, Accuracy: {}/{} ({:.2f}%)\\n'.format(\n",
    "        test_lossLN, correct, len(test_loader.dataset),\n",
    "        100. * correct / len(test_loader.dataset)))\n",
    "    \n",
    "    \n",
    "    test_accLN.append(100. * correct / len(test_loader.dataset))"
   ]
  },
  {
   "cell_type": "code",
   "execution_count": 12,
   "metadata": {},
   "outputs": [],
   "source": [
    "train_lossesGN = []\n",
    "test_lossesGN = []\n",
    "train_accGN = []\n",
    "test_accGN = []\n",
    "\n",
    "def trainGN(model, device, train_loader, optimizer, epoch):\n",
    "  model.train()\n",
    "  pbar = tqdm(train_loader)\n",
    "  correct = 0\n",
    "  processed = 0\n",
    "  for batch_idx, (data, target) in enumerate(pbar):\n",
    "    # get samples\n",
    "    data, target = data.to(device), target.to(device)\n",
    "\n",
    "    # Init\n",
    "    optimizer.zero_grad()\n",
    "    # In PyTorch, we need to set the gradients to zero before starting to do backpropragation because PyTorch accumulates the gradients on subsequent backward passes. \n",
    "    # Because of this, when you start your training loop, ideally you should zero out the gradients so that you do the parameter update correctly.\n",
    "\n",
    "    # Predict\n",
    "    y_pred = model(data)\n",
    "\n",
    "    # Calculate loss\n",
    "    loss = F.nll_loss(y_pred, target)\n",
    "    train_lossesGN.append(loss)\n",
    "\n",
    "    # Backpropagation\n",
    "    loss.backward()\n",
    "    optimizer.step()\n",
    "\n",
    "    # Update pbar-tqdm\n",
    "    \n",
    "    pred = y_pred.argmax(dim=1, keepdim=True)  # get the index of the max log-probability\n",
    "    correct += pred.eq(target.view_as(pred)).sum().item()\n",
    "    processed += len(data)\n",
    "\n",
    "    pbar.set_description(desc= f'Loss={loss.item()} Batch_id={batch_idx} Accuracy={100*correct/processed:0.2f}')\n",
    "    train_accGN.append(100*correct/processed)\n",
    "\n",
    "def testGN(model, device, test_loader):\n",
    "    model.eval()\n",
    "    test_lossGN = 0\n",
    "    correct = 0\n",
    "    with torch.no_grad():\n",
    "        for data, target in test_loader:\n",
    "            data, target = data.to(device), target.to(device)\n",
    "            output = model(data)\n",
    "            test_lossGN += F.nll_loss(output, target, reduction='sum').item()  # sum up batch loss\n",
    "            pred = output.argmax(dim=1, keepdim=True)  # get the index of the max log-probability\n",
    "            correct += pred.eq(target.view_as(pred)).sum().item()\n",
    "\n",
    "    test_lossGN /= len(test_loader.dataset)\n",
    "    test_lossesGN.append(test_lossGN)\n",
    "\n",
    "    print('\\nTest set: Average loss: {:.4f}, Accuracy: {}/{} ({:.2f}%)\\n'.format(\n",
    "        test_lossGN, correct, len(test_loader.dataset),\n",
    "        100. * correct / len(test_loader.dataset)))\n",
    "    \n",
    "    \n",
    "    test_accGN.append(100. * correct / len(test_loader.dataset))"
   ]
  },
  {
   "cell_type": "code",
   "execution_count": 13,
   "metadata": {},
   "outputs": [],
   "source": [
    "from tqdm import tqdm\n",
    "from torch.autograd import Variable\n",
    "\n",
    "train_lossesBNL1 = []\n",
    "test_lossesBNL1 = []\n",
    "train_accBNL1 = []\n",
    "test_accBNL1 = []\n",
    "\n",
    "lambda_ = 0.0005\n",
    "\n",
    "def trainBNL1(model, device, train_loader, optimizer, epoch):\n",
    "  model.train()\n",
    "  pbar = tqdm(train_loader)\n",
    "  correct = 0\n",
    "  processed = 0\n",
    "  for batch_idx, (data, target) in enumerate(pbar):\n",
    "    # get samples\n",
    "    data, target = data.to(device), target.to(device)\n",
    "\n",
    "    # Init\n",
    "    optimizer.zero_grad()\n",
    "    # In PyTorch, we need to set the gradients to zero before starting to do backpropragation because PyTorch accumulates the gradients on subsequent backward passes. \n",
    "    # Because of this, when you start your training loop, ideally you should zero out the gradients so that you do the parameter update correctly.\n",
    "\n",
    "    # Predict\n",
    "    y_pred = model(data)\n",
    "\n",
    "    # Calculate loss\n",
    "    loss = F.nll_loss(y_pred, target)\n",
    "    \n",
    "    # L1 regularization  \n",
    "    #L1_norm = Variable( torch.FloatTensor(1), requires_grad=True)\n",
    "    #L1_norm = sum(w.abs().sum() for w in model.parameters())\n",
    "    #loss += lambda_ * L1_norm\n",
    "    \n",
    "    l1_reg = None\n",
    "    for w in model.parameters():\n",
    "        if l1_reg is None:\n",
    "            l1_reg = w.abs().sum()\n",
    "        else:\n",
    "            l1_reg = l1_reg + w.abs().sum()\n",
    "            \n",
    "    loss += lambda_*l1_reg\n",
    "   \n",
    "    train_lossesBNL1.append(loss)\n",
    "\n",
    "    # Backpropagation\n",
    "    loss.backward()\n",
    "    optimizer.step()\n",
    "\n",
    "    # Update pbar-tqdm\n",
    "    \n",
    "    pred = y_pred.argmax(dim=1, keepdim=True)  # get the index of the max log-probability\n",
    "    correct += pred.eq(target.view_as(pred)).sum().item()\n",
    "    processed += len(data)\n",
    "\n",
    "    pbar.set_description(desc= f'Loss={loss.item()} Batch_id={batch_idx} Accuracy={100*correct/processed:0.2f}')\n",
    "    train_accBNL1.append(100*correct/processed)\n",
    "\n",
    "def testBNL1(model, device, test_loader):\n",
    "    model.eval()\n",
    "    test_lossBNL1 = 0\n",
    "    correct = 0\n",
    "    with torch.no_grad():\n",
    "        for data, target in test_loader:\n",
    "            data, target = data.to(device), target.to(device)\n",
    "            output = model(data)\n",
    "            test_lossBNL1 += F.nll_loss(output, target, reduction='sum').item()  # sum up batch loss\n",
    "            pred = output.argmax(dim=1, keepdim=True)  # get the index of the max log-probability\n",
    "            correct += pred.eq(target.view_as(pred)).sum().item()\n",
    "\n",
    "    test_lossBNL1 /= len(test_loader.dataset)\n",
    "    test_lossesBNL1.append(test_lossBNL1)\n",
    "\n",
    "    print('\\nTest set: Average loss: {:.4f}, Accuracy: {}/{} ({:.2f}%)\\n'.format(\n",
    "        test_lossBNL1, correct, len(test_loader.dataset),\n",
    "        100. * correct / len(test_loader.dataset)))\n",
    "    \n",
    "    \n",
    "    test_accBNL1.append(100. * correct / len(test_loader.dataset))"
   ]
  },
  {
   "cell_type": "code",
   "execution_count": 14,
   "metadata": {
    "colab": {
     "base_uri": "https://localhost:8080/"
    },
    "id": "xMCFxeAKOB53",
    "outputId": "a2d7c297-1bcd-49c2-df24-cff2925e6ab9",
    "scrolled": true
   },
   "outputs": [
    {
     "name": "stdout",
     "output_type": "stream",
     "text": [
      "EPOCH: 0\n"
     ]
    },
    {
     "name": "stderr",
     "output_type": "stream",
     "text": [
      "Loss=0.15275299549102783 Batch_id=937 Accuracy=94.13: 100%|█| 938/938 [00:09<00:\n",
      "Loss=0.031148554757237434 Batch_id=937 Accuracy=94.68: 100%|█| 938/938 [00:10<00\n",
      "Loss=0.3978549838066101 Batch_id=937 Accuracy=95.47: 100%|█| 938/938 [00:11<00:0\n"
     ]
    },
    {
     "name": "stdout",
     "output_type": "stream",
     "text": [
      "\n",
      "Test set: Average loss: 0.0903, Accuracy: 9763/10000 (97.63%)\n",
      "\n",
      "\n",
      "Test set: Average loss: 0.0713, Accuracy: 9838/10000 (98.38%)\n",
      "\n",
      "\n",
      "Test set: Average loss: 0.1118, Accuracy: 9743/10000 (97.43%)\n",
      "\n",
      "EPOCH: 1\n"
     ]
    },
    {
     "name": "stderr",
     "output_type": "stream",
     "text": [
      "Loss=0.10925782471895218 Batch_id=937 Accuracy=97.51: 100%|█| 938/938 [00:10<00:\n",
      "Loss=0.05237821489572525 Batch_id=937 Accuracy=97.85: 100%|█| 938/938 [00:11<00:\n",
      "Loss=0.2430446445941925 Batch_id=937 Accuracy=97.39: 100%|█| 938/938 [00:13<00:0\n"
     ]
    },
    {
     "name": "stdout",
     "output_type": "stream",
     "text": [
      "\n",
      "Test set: Average loss: 0.0609, Accuracy: 9815/10000 (98.15%)\n",
      "\n",
      "\n",
      "Test set: Average loss: 0.0434, Accuracy: 9889/10000 (98.89%)\n",
      "\n",
      "\n",
      "Test set: Average loss: 0.0513, Accuracy: 9849/10000 (98.49%)\n",
      "\n",
      "EPOCH: 2\n"
     ]
    },
    {
     "name": "stderr",
     "output_type": "stream",
     "text": [
      "Loss=0.04107211157679558 Batch_id=937 Accuracy=98.13: 100%|█| 938/938 [00:11<00:\n",
      "Loss=0.021604791283607483 Batch_id=937 Accuracy=98.17: 100%|█| 938/938 [00:11<00\n",
      "Loss=0.22148773074150085 Batch_id=937 Accuracy=97.59: 100%|█| 938/938 [00:14<00:\n"
     ]
    },
    {
     "name": "stdout",
     "output_type": "stream",
     "text": [
      "\n",
      "Test set: Average loss: 0.0388, Accuracy: 9887/10000 (98.87%)\n",
      "\n",
      "\n",
      "Test set: Average loss: 0.0394, Accuracy: 9878/10000 (98.78%)\n",
      "\n",
      "\n",
      "Test set: Average loss: 0.0504, Accuracy: 9859/10000 (98.59%)\n",
      "\n",
      "EPOCH: 3\n"
     ]
    },
    {
     "name": "stderr",
     "output_type": "stream",
     "text": [
      "Loss=0.2102678418159485 Batch_id=937 Accuracy=98.41: 100%|█| 938/938 [00:12<00:0\n",
      "Loss=0.020495733246207237 Batch_id=937 Accuracy=98.46: 100%|█| 938/938 [00:12<00\n",
      "Loss=0.2612207233905792 Batch_id=937 Accuracy=97.70: 100%|█| 938/938 [00:14<00:0\n"
     ]
    },
    {
     "name": "stdout",
     "output_type": "stream",
     "text": [
      "\n",
      "Test set: Average loss: 0.0314, Accuracy: 9906/10000 (99.06%)\n",
      "\n",
      "\n",
      "Test set: Average loss: 0.0327, Accuracy: 9907/10000 (99.07%)\n",
      "\n",
      "\n",
      "Test set: Average loss: 0.0543, Accuracy: 9842/10000 (98.42%)\n",
      "\n",
      "EPOCH: 4\n"
     ]
    },
    {
     "name": "stderr",
     "output_type": "stream",
     "text": [
      "Loss=0.15026037395000458 Batch_id=937 Accuracy=98.53: 100%|█| 938/938 [00:12<00:\n",
      "Loss=0.045527148991823196 Batch_id=937 Accuracy=98.59: 100%|█| 938/938 [00:12<00\n",
      "Loss=0.4453287124633789 Batch_id=937 Accuracy=97.72: 100%|█| 938/938 [00:14<00:0\n"
     ]
    },
    {
     "name": "stdout",
     "output_type": "stream",
     "text": [
      "\n",
      "Test set: Average loss: 0.0318, Accuracy: 9903/10000 (99.03%)\n",
      "\n",
      "\n",
      "Test set: Average loss: 0.0343, Accuracy: 9893/10000 (98.93%)\n",
      "\n",
      "\n",
      "Test set: Average loss: 0.0454, Accuracy: 9879/10000 (98.79%)\n",
      "\n",
      "EPOCH: 5\n"
     ]
    },
    {
     "name": "stderr",
     "output_type": "stream",
     "text": [
      "Loss=0.05450480803847313 Batch_id=937 Accuracy=98.69: 100%|█| 938/938 [00:12<00:\n",
      "Loss=0.12632721662521362 Batch_id=937 Accuracy=98.64: 100%|█| 938/938 [00:12<00:\n",
      "Loss=0.19478271901607513 Batch_id=937 Accuracy=97.74: 100%|█| 938/938 [00:14<00:\n"
     ]
    },
    {
     "name": "stdout",
     "output_type": "stream",
     "text": [
      "\n",
      "Test set: Average loss: 0.0279, Accuracy: 9919/10000 (99.19%)\n",
      "\n",
      "\n",
      "Test set: Average loss: 0.0271, Accuracy: 9915/10000 (99.15%)\n",
      "\n",
      "\n",
      "Test set: Average loss: 0.0345, Accuracy: 9903/10000 (99.03%)\n",
      "\n",
      "EPOCH: 6\n"
     ]
    },
    {
     "name": "stderr",
     "output_type": "stream",
     "text": [
      "Loss=0.057551611214876175 Batch_id=937 Accuracy=98.75: 100%|█| 938/938 [00:12<00\n",
      "Loss=0.13341741263866425 Batch_id=937 Accuracy=98.80: 100%|█| 938/938 [00:12<00:\n",
      "Loss=0.3911074101924896 Batch_id=937 Accuracy=97.76: 100%|█| 938/938 [00:14<00:0\n"
     ]
    },
    {
     "name": "stdout",
     "output_type": "stream",
     "text": [
      "\n",
      "Test set: Average loss: 0.0305, Accuracy: 9916/10000 (99.16%)\n",
      "\n",
      "\n",
      "Test set: Average loss: 0.0255, Accuracy: 9925/10000 (99.25%)\n",
      "\n",
      "\n",
      "Test set: Average loss: 0.0447, Accuracy: 9873/10000 (98.73%)\n",
      "\n",
      "EPOCH: 7\n"
     ]
    },
    {
     "name": "stderr",
     "output_type": "stream",
     "text": [
      "Loss=0.013267762027680874 Batch_id=937 Accuracy=98.86: 100%|█| 938/938 [00:12<00\n",
      "Loss=0.00693749962374568 Batch_id=937 Accuracy=98.84: 100%|█| 938/938 [00:12<00:\n",
      "Loss=0.3466835618019104 Batch_id=937 Accuracy=97.81: 100%|█| 938/938 [00:14<00:0\n"
     ]
    },
    {
     "name": "stdout",
     "output_type": "stream",
     "text": [
      "\n",
      "Test set: Average loss: 0.0241, Accuracy: 9930/10000 (99.30%)\n",
      "\n",
      "\n",
      "Test set: Average loss: 0.0223, Accuracy: 9930/10000 (99.30%)\n",
      "\n",
      "\n",
      "Test set: Average loss: 0.0624, Accuracy: 9811/10000 (98.11%)\n",
      "\n",
      "EPOCH: 8\n"
     ]
    },
    {
     "name": "stderr",
     "output_type": "stream",
     "text": [
      "Loss=0.004549249541014433 Batch_id=937 Accuracy=98.91: 100%|█| 938/938 [00:12<00\n",
      "Loss=0.01139118056744337 Batch_id=937 Accuracy=98.93: 100%|█| 938/938 [00:12<00:\n",
      "Loss=0.316856324672699 Batch_id=937 Accuracy=97.83: 100%|█| 938/938 [00:14<00:00\n"
     ]
    },
    {
     "name": "stdout",
     "output_type": "stream",
     "text": [
      "\n",
      "Test set: Average loss: 0.0207, Accuracy: 9942/10000 (99.42%)\n",
      "\n",
      "\n",
      "Test set: Average loss: 0.0302, Accuracy: 9919/10000 (99.19%)\n",
      "\n",
      "\n",
      "Test set: Average loss: 0.0413, Accuracy: 9890/10000 (98.90%)\n",
      "\n",
      "EPOCH: 9\n"
     ]
    },
    {
     "name": "stderr",
     "output_type": "stream",
     "text": [
      "Loss=0.029076451435685158 Batch_id=937 Accuracy=98.97: 100%|█| 938/938 [00:12<00\n",
      "Loss=0.005673091858625412 Batch_id=937 Accuracy=99.02: 100%|█| 938/938 [00:12<00\n",
      "Loss=0.1693088263273239 Batch_id=937 Accuracy=97.78: 100%|█| 938/938 [00:14<00:0\n"
     ]
    },
    {
     "name": "stdout",
     "output_type": "stream",
     "text": [
      "\n",
      "Test set: Average loss: 0.0217, Accuracy: 9946/10000 (99.46%)\n",
      "\n",
      "\n",
      "Test set: Average loss: 0.0243, Accuracy: 9929/10000 (99.29%)\n",
      "\n",
      "\n",
      "Test set: Average loss: 0.0389, Accuracy: 9889/10000 (98.89%)\n",
      "\n",
      "EPOCH: 10\n"
     ]
    },
    {
     "name": "stderr",
     "output_type": "stream",
     "text": [
      "Loss=0.01117765624076128 Batch_id=937 Accuracy=99.08: 100%|█| 938/938 [00:12<00:\n",
      "Loss=0.0186659824103117 Batch_id=937 Accuracy=99.08: 100%|█| 938/938 [00:12<00:0\n",
      "Loss=0.2093299776315689 Batch_id=937 Accuracy=97.97: 100%|█| 938/938 [00:14<00:0\n"
     ]
    },
    {
     "name": "stdout",
     "output_type": "stream",
     "text": [
      "\n",
      "Test set: Average loss: 0.0223, Accuracy: 9929/10000 (99.29%)\n",
      "\n",
      "\n",
      "Test set: Average loss: 0.0248, Accuracy: 9927/10000 (99.27%)\n",
      "\n",
      "\n",
      "Test set: Average loss: 0.0338, Accuracy: 9908/10000 (99.08%)\n",
      "\n",
      "EPOCH: 11\n"
     ]
    },
    {
     "name": "stderr",
     "output_type": "stream",
     "text": [
      "Loss=0.013271868228912354 Batch_id=937 Accuracy=99.11: 100%|█| 938/938 [00:12<00\n",
      "Loss=0.023899098858237267 Batch_id=937 Accuracy=99.13: 100%|█| 938/938 [00:12<00\n",
      "Loss=0.28919366002082825 Batch_id=937 Accuracy=97.92: 100%|█| 938/938 [00:14<00:\n"
     ]
    },
    {
     "name": "stdout",
     "output_type": "stream",
     "text": [
      "\n",
      "Test set: Average loss: 0.0229, Accuracy: 9936/10000 (99.36%)\n",
      "\n",
      "\n",
      "Test set: Average loss: 0.0242, Accuracy: 9928/10000 (99.28%)\n",
      "\n",
      "\n",
      "Test set: Average loss: 0.0679, Accuracy: 9799/10000 (97.99%)\n",
      "\n",
      "EPOCH: 12\n"
     ]
    },
    {
     "name": "stderr",
     "output_type": "stream",
     "text": [
      "Loss=0.13209481537342072 Batch_id=937 Accuracy=99.17: 100%|█| 938/938 [00:13<00:\n",
      "Loss=0.02978574112057686 Batch_id=937 Accuracy=99.09: 100%|█| 938/938 [00:12<00:\n",
      "Loss=0.1628102958202362 Batch_id=937 Accuracy=97.82: 100%|█| 938/938 [00:15<00:0\n"
     ]
    },
    {
     "name": "stdout",
     "output_type": "stream",
     "text": [
      "\n",
      "Test set: Average loss: 0.0220, Accuracy: 9930/10000 (99.30%)\n",
      "\n",
      "\n",
      "Test set: Average loss: 0.0253, Accuracy: 9922/10000 (99.22%)\n",
      "\n",
      "\n",
      "Test set: Average loss: 0.0539, Accuracy: 9834/10000 (98.34%)\n",
      "\n",
      "EPOCH: 13\n"
     ]
    },
    {
     "name": "stderr",
     "output_type": "stream",
     "text": [
      "Loss=0.05829080939292908 Batch_id=937 Accuracy=99.23: 100%|█| 938/938 [00:12<00:\n",
      "Loss=0.030656810849905014 Batch_id=937 Accuracy=99.07: 100%|█| 938/938 [00:12<00\n",
      "Loss=0.29500117897987366 Batch_id=937 Accuracy=97.90: 100%|█| 938/938 [00:14<00:\n"
     ]
    },
    {
     "name": "stdout",
     "output_type": "stream",
     "text": [
      "\n",
      "Test set: Average loss: 0.0217, Accuracy: 9933/10000 (99.33%)\n",
      "\n",
      "\n",
      "Test set: Average loss: 0.0212, Accuracy: 9934/10000 (99.34%)\n",
      "\n",
      "\n",
      "Test set: Average loss: 0.0446, Accuracy: 9871/10000 (98.71%)\n",
      "\n",
      "EPOCH: 14\n"
     ]
    },
    {
     "name": "stderr",
     "output_type": "stream",
     "text": [
      "Loss=0.07481318712234497 Batch_id=937 Accuracy=99.26: 100%|█| 938/938 [00:12<00:\n",
      "Loss=0.009767075069248676 Batch_id=937 Accuracy=99.19: 100%|█| 938/938 [00:13<00\n",
      "Loss=0.3889256417751312 Batch_id=937 Accuracy=97.89: 100%|█| 938/938 [00:14<00:0\n"
     ]
    },
    {
     "name": "stdout",
     "output_type": "stream",
     "text": [
      "\n",
      "Test set: Average loss: 0.0221, Accuracy: 9938/10000 (99.38%)\n",
      "\n",
      "\n",
      "Test set: Average loss: 0.0282, Accuracy: 9915/10000 (99.15%)\n",
      "\n",
      "\n",
      "Test set: Average loss: 0.0532, Accuracy: 9846/10000 (98.46%)\n",
      "\n",
      "EPOCH: 15\n"
     ]
    },
    {
     "name": "stderr",
     "output_type": "stream",
     "text": [
      "Loss=0.004310642834752798 Batch_id=937 Accuracy=99.24: 100%|█| 938/938 [00:12<00\n",
      "Loss=0.0025758338160812855 Batch_id=937 Accuracy=99.22: 100%|█| 938/938 [00:13<0\n",
      "Loss=0.26445135474205017 Batch_id=937 Accuracy=97.83: 100%|█| 938/938 [00:14<00:\n"
     ]
    },
    {
     "name": "stdout",
     "output_type": "stream",
     "text": [
      "\n",
      "Test set: Average loss: 0.0246, Accuracy: 9921/10000 (99.21%)\n",
      "\n",
      "\n",
      "Test set: Average loss: 0.0226, Accuracy: 9937/10000 (99.37%)\n",
      "\n",
      "\n",
      "Test set: Average loss: 0.0475, Accuracy: 9872/10000 (98.72%)\n",
      "\n",
      "EPOCH: 16\n"
     ]
    },
    {
     "name": "stderr",
     "output_type": "stream",
     "text": [
      "Loss=0.24040867388248444 Batch_id=937 Accuracy=99.26: 100%|█| 938/938 [00:12<00:\n",
      "Loss=0.005140646360814571 Batch_id=937 Accuracy=99.23: 100%|█| 938/938 [00:13<00\n",
      "Loss=0.16463112831115723 Batch_id=937 Accuracy=97.97: 100%|█| 938/938 [00:14<00:\n"
     ]
    },
    {
     "name": "stdout",
     "output_type": "stream",
     "text": [
      "\n",
      "Test set: Average loss: 0.0220, Accuracy: 9943/10000 (99.43%)\n",
      "\n",
      "\n",
      "Test set: Average loss: 0.0233, Accuracy: 9934/10000 (99.34%)\n",
      "\n",
      "\n",
      "Test set: Average loss: 0.0454, Accuracy: 9866/10000 (98.66%)\n",
      "\n",
      "EPOCH: 17\n"
     ]
    },
    {
     "name": "stderr",
     "output_type": "stream",
     "text": [
      "Loss=0.004852409940212965 Batch_id=937 Accuracy=99.36: 100%|█| 938/938 [00:12<00\n",
      "Loss=0.018089402467012405 Batch_id=937 Accuracy=99.30: 100%|█| 938/938 [00:13<00\n",
      "Loss=0.15614204108715057 Batch_id=937 Accuracy=97.92: 100%|█| 938/938 [00:15<00:\n"
     ]
    },
    {
     "name": "stdout",
     "output_type": "stream",
     "text": [
      "\n",
      "Test set: Average loss: 0.0209, Accuracy: 9933/10000 (99.33%)\n",
      "\n",
      "\n",
      "Test set: Average loss: 0.0219, Accuracy: 9943/10000 (99.43%)\n",
      "\n",
      "\n",
      "Test set: Average loss: 0.0599, Accuracy: 9811/10000 (98.11%)\n",
      "\n",
      "EPOCH: 18\n"
     ]
    },
    {
     "name": "stderr",
     "output_type": "stream",
     "text": [
      "Loss=0.04536838084459305 Batch_id=937 Accuracy=99.36: 100%|█| 938/938 [00:12<00:\n",
      "Loss=0.06353822350502014 Batch_id=937 Accuracy=99.33: 100%|█| 938/938 [00:13<00:\n",
      "Loss=0.2812103033065796 Batch_id=937 Accuracy=97.93: 100%|█| 938/938 [00:15<00:0\n"
     ]
    },
    {
     "name": "stdout",
     "output_type": "stream",
     "text": [
      "\n",
      "Test set: Average loss: 0.0185, Accuracy: 9947/10000 (99.47%)\n",
      "\n",
      "\n",
      "Test set: Average loss: 0.0234, Accuracy: 9928/10000 (99.28%)\n",
      "\n",
      "\n",
      "Test set: Average loss: 0.0597, Accuracy: 9808/10000 (98.08%)\n",
      "\n",
      "EPOCH: 19\n"
     ]
    },
    {
     "name": "stderr",
     "output_type": "stream",
     "text": [
      "Loss=0.008005804382264614 Batch_id=937 Accuracy=99.36: 100%|█| 938/938 [00:12<00\n",
      "Loss=0.01692669279873371 Batch_id=937 Accuracy=99.39: 100%|█| 938/938 [00:13<00:\n",
      "Loss=0.3307506740093231 Batch_id=937 Accuracy=97.82: 100%|█| 938/938 [00:15<00:0\n"
     ]
    },
    {
     "name": "stdout",
     "output_type": "stream",
     "text": [
      "\n",
      "Test set: Average loss: 0.0193, Accuracy: 9943/10000 (99.43%)\n",
      "\n",
      "\n",
      "Test set: Average loss: 0.0215, Accuracy: 9936/10000 (99.36%)\n",
      "\n",
      "\n",
      "Test set: Average loss: 0.0470, Accuracy: 9851/10000 (98.51%)\n",
      "\n"
     ]
    }
   ],
   "source": [
    "from torch.optim.lr_scheduler import StepLR\n",
    "\n",
    "modelLN =  NetLN().to(device)\n",
    "modelGN =  NetGN().to(device)\n",
    "modelBNL1 = Net().to(device)\n",
    "\n",
    "optimizerLN = optim.SGD(modelLN.parameters(), lr=0.01, momentum=0.9)\n",
    "optimizerGN = optim.SGD(modelGN.parameters(), lr=0.01, momentum=0.9)\n",
    "optimizerBNL1 = optim.SGD(modelBNL1.parameters(), lr=0.01, momentum=0.9)\n",
    "\n",
    "\n",
    "#schedulerLN = StepLR(optimizerLN, step_size=6, gamma=0.00001)\n",
    "#schedulerGN = StepLR(optimizerGN, step_size=6, gamma=0.00001)\n",
    "#schedulerBNL1 = StepLR(optimizerBNL1, step_size=6, gamma=0.00001)\n",
    "\n",
    "\n",
    "#learning_rate = 0.01\n",
    "#optimizerLN = torch.optim.Adam(modelLN.parameters(), lr=learning_rate)\n",
    "#scheduler = StepLR(optimizer, step_size=6, gamma=0.0001)\n",
    "\n",
    "\n",
    "EPOCHS = 20\n",
    "for epoch in range(EPOCHS):\n",
    "    print(\"EPOCH:\", epoch)\n",
    "    trainLN(modelLN, device, train_loader, optimizerLN, epoch)\n",
    "    trainGN(modelGN, device, train_loader, optimizerGN, epoch)\n",
    "    trainBNL1(modelBNL1, device, train_loader, optimizerBNL1, epoch)\n",
    "    \n",
    "    #schedulerLN.step()\n",
    "    #schedulerGN.step()\n",
    "    #schedulerBNL1.step()\n",
    "\n",
    "    testLN(modelLN, device, test_loader)\n",
    "    testGN(modelGN, device, test_loader)\n",
    "    testBNL1(modelBNL1, device, test_loader)"
   ]
  },
  {
   "cell_type": "code",
   "execution_count": 15,
   "metadata": {
    "id": "87RaqGSEOWDe",
    "outputId": "78d0e805-999d-4f16-e2f3-35e86fd829dd"
   },
   "outputs": [
    {
     "data": {
      "image/png": "[encoded data removed]",
      "text/plain": [
       "<Figure size 1080x720 with 4 Axes>"
      ]
     },
     "metadata": {
      "needs_background": "light"
     },
     "output_type": "display_data"
    }
   ],
   "source": [
    "%matplotlib inline\n",
    "import matplotlib.pyplot as plt\n",
    "\n",
    "train_losses_cpuLN = []\n",
    "for loss in train_lossesLN:\n",
    "    train_losses_cpuLN.append(loss.cpu().data.numpy())  \n",
    "    \n",
    "train_losses_cpuGN = []\n",
    "for loss in train_lossesGN:\n",
    "    train_losses_cpuGN.append(loss.cpu().data.numpy()) \n",
    "    \n",
    "train_losses_cpuBNL1 = []\n",
    "for loss in train_lossesBNL1:\n",
    "    train_losses_cpuBNL1.append(loss.cpu().data.numpy()) \n",
    "\n",
    "fig, axs = plt.subplots(2,2,figsize=(15,10))\n",
    "axs[0, 0].plot(train_losses_cpuLN, color='b', label='Layer Norm')\n",
    "axs[0, 0].plot(train_losses_cpuGN, color='g', label='Group Norm')\n",
    "axs[0, 0].plot(train_losses_cpuBNL1, color='r', label='Batch Norm L1')\n",
    "axs[0, 0].legend(loc=\"upper right\")\n",
    "axs[0, 0].set_title(\"Training Loss\")\n",
    "\n",
    "axs[1, 0].plot(train_accLN)\n",
    "axs[1, 0].plot(train_accLN, color='b', label='Layer Norm')\n",
    "axs[1, 0].plot(train_accGN, color='g', label='Group Norm')\n",
    "axs[1, 0].plot(train_accBNL1, color='r', label='Batch Norm L1')\n",
    "axs[1, 0].legend(loc=\"lower right\")\n",
    "axs[1, 0].set_title(\"Training Accuracy\")\n",
    "\n",
    "axs[0, 1].plot(test_lossesLN, color='b', label='Layer Norm')\n",
    "axs[0, 1].plot(test_lossesGN, color='g', label='Group Norm')\n",
    "axs[0, 1].plot(test_lossesBNL1, color='r', label='Batch Norm L1')\n",
    "axs[0, 1].legend(loc=\"upper right\")\n",
    "axs[0, 1].set_title(\"Test Loss\")\n",
    "\n",
    "axs[1, 1].plot(test_accLN, color='b', label='Layer Norm')\n",
    "axs[1, 1].plot(test_accGN, color='g', label='Group Norm')\n",
    "axs[1, 1].plot(test_accBNL1, color='r', label='Batch Norm L1')\n",
    "axs[1, 1].legend(loc=\"lower right\")\n",
    "axs[1, 1].set_title(\"Test Accuracy\")\n",
    "\n",
    "fig.savefig('comparison_0.0005.jpg', bbox_inches='tight')\n"
   ]
  }
 ],
 "metadata": {
  "accelerator": "GPU",
  "colab": {
   "name": "network_converge_step4.ipynb",
   "provenance": []
  },
  "kernelspec": {
   "display_name": "Python 3 (ipykernel)",
   "language": "python",
   "name": "python3"
  },
  "language_info": {
   "codemirror_mode": {
    "name": "ipython",
    "version": 3
   },
   "file_extension": ".py",
   "mimetype": "text/x-python",
   "name": "python",
   "nbconvert_exporter": "python",
   "pygments_lexer": "ipython3",
   "version": "3.8.10"
  }
 },
 "nbformat": 4,
 "nbformat_minor": 1
}
