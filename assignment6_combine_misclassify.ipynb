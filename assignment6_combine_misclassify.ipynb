{
 "cells": [
  {
   "cell_type": "code",
   "execution_count": 1,
   "metadata": {
    "id": "8kH16rnZ7wt_"
   },
   "outputs": [],
   "source": [
    "from __future__ import print_function\n",
    "import torch\n",
    "import torch.nn as nn\n",
    "import torch.nn.functional as F\n",
    "import torch.optim as optim\n",
    "from torchvision import datasets, transforms"
   ]
  },
  {
   "cell_type": "code",
   "execution_count": 2,
   "metadata": {
    "id": "FHffo22p3_57"
   },
   "outputs": [],
   "source": [
    "# Train Phase transformations\n",
    "train_transforms = transforms.Compose([\n",
    "                                     #transforms.Resize((28, 28)),\n",
    "                                     transforms.RandomRotation((-7.0, 7.0), fill=(1,)),\n",
    "                                     #transforms.RandomRotation((-7.0, 7.0)),\n",
    "                                     #transforms.RandomGrayscale(p=0.01),        \n",
    "                                     #transforms.ColorJitter(brightness=0.2, contrast=0.2),\n",
    "                                     transforms.ToTensor(),\n",
    "                                     transforms.Normalize((0.1307,), (0.3081,))\n",
    "                                       # The mean and std have to be sequences (e.g., tuples), therefore you should add a comma after the values. \n",
    "                                       # Note the difference between (0.1307) and (0.1307,)\n",
    "                                       ])\n",
    "\n",
    "# Test Phase transformations\n",
    "test_transforms = transforms.Compose([\n",
    "                                      #  transforms.Resize((28, 28)),\n",
    "                                      #  transforms.ColorJitter(brightness=0.10, contrast=0.1, saturation=0.10, hue=0.1),\n",
    "                                       transforms.ToTensor(),\n",
    "                                       transforms.Normalize((0.1307,), (0.3081,))\n",
    "                                       ])\n"
   ]
  },
  {
   "cell_type": "code",
   "execution_count": 3,
   "metadata": {
    "id": "_4A84rlfDA23"
   },
   "outputs": [
    {
     "name": "stderr",
     "output_type": "stream",
     "text": [
      "/home/rogbot/deepvision/lib/python3.8/site-packages/torchvision/datasets/mnist.py:498: UserWarning: The given NumPy array is not writeable, and PyTorch does not support non-writeable tensors. This means you can write to the underlying (supposedly non-writeable) NumPy array using the tensor. You may want to copy the array to protect its data or make it writeable before converting it to a tensor. This type of warning will be suppressed for the rest of this program. (Triggered internally at  ../torch/csrc/utils/tensor_numpy.cpp:180.)\n",
      "  return torch.from_numpy(parsed.astype(m[2], copy=False)).view(*s)\n"
     ]
    }
   ],
   "source": [
    "train = datasets.MNIST('./data', train=True, download=True, transform=train_transforms)\n",
    "test = datasets.MNIST('./data', train=False, download=True, transform=test_transforms)"
   ]
  },
  {
   "cell_type": "code",
   "execution_count": 4,
   "metadata": {
    "colab": {
     "base_uri": "https://localhost:8080/"
    },
    "id": "C8OLDR79DrHG",
    "outputId": "ead28a8d-d3a0-4344-867a-2b9b829cc77a"
   },
   "outputs": [
    {
     "name": "stdout",
     "output_type": "stream",
     "text": [
      "CUDA Available? True\n"
     ]
    }
   ],
   "source": [
    "SEED = 1\n",
    "\n",
    "# CUDA?\n",
    "cuda = torch.cuda.is_available()\n",
    "print(\"CUDA Available?\", cuda)\n",
    "\n",
    "# For reproducibility\n",
    "torch.manual_seed(SEED)\n",
    "\n",
    "if cuda:\n",
    "    torch.cuda.manual_seed(SEED)\n",
    "\n",
    "# dataloader arguments - something you'll fetch these from cmdprmt\n",
    "dataloader_args = dict(shuffle=True, batch_size=64, num_workers=16, pin_memory=True) if cuda else dict(shuffle=True, batch_size=64)\n",
    "\n",
    "# train dataloader\n",
    "train_loader = torch.utils.data.DataLoader(train, **dataloader_args)\n",
    "\n",
    "# test dataloader\n",
    "test_loader = torch.utils.data.DataLoader(test, **dataloader_args)"
   ]
  },
  {
   "cell_type": "code",
   "execution_count": 5,
   "metadata": {
    "id": "tEM8YabU3_5_"
   },
   "outputs": [],
   "source": [
    "import torch.nn.functional as F\n",
    "dropout_value = 0.01\n",
    "\n",
    "class NetLN(nn.Module):\n",
    "    def __init__(self):\n",
    "        super(NetLN, self).__init__()\n",
    "        # Input Block\n",
    "        self.convblock1 = nn.Sequential(\n",
    "            nn.Conv2d(in_channels=1, out_channels=11, kernel_size=(3, 3), padding=0, bias=False),\n",
    "            nn.ReLU(),\n",
    "            nn.LayerNorm([11, 26, 26]),\n",
    "            nn.Dropout(dropout_value)\n",
    "        ) # output_size = 26\n",
    "\n",
    "        # CONVOLUTION BLOCK 1\n",
    "        self.convblock2 = nn.Sequential(\n",
    "            nn.Conv2d(in_channels=11, out_channels=19, kernel_size=(3, 3), padding=0, bias=False),\n",
    "            nn.ReLU(),\n",
    "            nn.LayerNorm([19, 24, 24]),\n",
    "            nn.Dropout(dropout_value)\n",
    "        ) # output_size = 24\n",
    "\n",
    "        # TRANSITION BLOCK 1\n",
    "        self.convblock3 = nn.Sequential(\n",
    "            nn.Conv2d(in_channels=19, out_channels=10, kernel_size=(1, 1), padding=0, bias=False),\n",
    "            #nn.BatchNorm2d(10),\n",
    "            nn.LayerNorm([10, 24, 24]),\n",
    "\n",
    "        ) # output_size = 24\n",
    "        self.pool1 = nn.MaxPool2d(2, 2) # output_size = 12\n",
    "\n",
    "        # CONVOLUTION BLOCK 2\n",
    "        self.convblock4 = nn.Sequential(\n",
    "            nn.Conv2d(in_channels=10, out_channels=15, kernel_size=(3, 3), padding=0, bias=False),\n",
    "            nn.ReLU(),            \n",
    "            nn.LayerNorm([15, 10, 10]),\n",
    "            nn.Dropout(dropout_value)\n",
    "        ) # output_size = 10\n",
    "        self.convblock5 = nn.Sequential(\n",
    "            nn.Conv2d(in_channels=15, out_channels=15, kernel_size=(3, 3), padding=0, bias=False),\n",
    "            nn.ReLU(),            \n",
    "            nn.LayerNorm([15, 8, 8]),\n",
    "            nn.Dropout(dropout_value)\n",
    "        ) # output_size = 8\n",
    "        self.convblock6 = nn.Sequential(\n",
    "            nn.Conv2d(in_channels=15, out_channels=15, kernel_size=(3, 3), padding=0, bias=False),\n",
    "            nn.ReLU(),            \n",
    "            nn.LayerNorm([15, 6, 6]),\n",
    "            nn.Dropout(dropout_value)\n",
    "        ) # output_size = 6\n",
    "        self.convblock7 = nn.Sequential(\n",
    "            nn.Conv2d(in_channels=15, out_channels=15, kernel_size=(3, 3), padding=1, bias=False),\n",
    "            nn.ReLU(),            \n",
    "            nn.LayerNorm([15, 6, 6]),\n",
    "            nn.Dropout(dropout_value)\n",
    "        ) # output_size = 6\n",
    "        \n",
    "        # OUTPUT BLOCK\n",
    "        self.gap = nn.Sequential(\n",
    "            nn.AvgPool2d(kernel_size=6)\n",
    "        ) # output_size = 1\n",
    "\n",
    "       \n",
    "        self.fc = nn.Sequential(\n",
    "            nn.Linear(15, 10,bias=False),\n",
    "            nn.BatchNorm1d(10),\n",
    "        )\n",
    "\n",
    "    def forward(self, x):\n",
    "        x = self.convblock1(x)\n",
    "        x = self.convblock2(x)\n",
    "        x = self.convblock3(x)\n",
    "        x = self.pool1(x)\n",
    "        x = self.convblock4(x)\n",
    "        x = self.convblock5(x)\n",
    "        x = self.convblock6(x)\n",
    "        x = self.convblock7(x)\n",
    "        x = self.gap(x)   \n",
    "        \n",
    "        x = x.view(x.size(0), -1)\n",
    "        x = self.fc(x)\n",
    "\n",
    "        return F.log_softmax(x, dim=-1)"
   ]
  },
  {
   "cell_type": "code",
   "execution_count": 6,
   "metadata": {
    "colab": {
     "base_uri": "https://localhost:8080/"
    },
    "id": "5skB97zIJQQe",
    "outputId": "b96ab774-b843-4f25-b4bf-84577e6ff233"
   },
   "outputs": [
    {
     "name": "stdout",
     "output_type": "stream",
     "text": [
      "Requirement already satisfied: torchsummary in /home/rogbot/deepvision/lib/python3.8/site-packages (1.5.1)\n",
      "cuda\n",
      "----------------------------------------------------------------\n",
      "        Layer (type)               Output Shape         Param #\n",
      "================================================================\n",
      "            Conv2d-1           [-1, 11, 26, 26]              99\n",
      "              ReLU-2           [-1, 11, 26, 26]               0\n",
      "         LayerNorm-3           [-1, 11, 26, 26]          14,872\n",
      "           Dropout-4           [-1, 11, 26, 26]               0\n",
      "            Conv2d-5           [-1, 19, 24, 24]           1,881\n",
      "              ReLU-6           [-1, 19, 24, 24]               0\n",
      "         LayerNorm-7           [-1, 19, 24, 24]          21,888\n",
      "           Dropout-8           [-1, 19, 24, 24]               0\n",
      "            Conv2d-9           [-1, 10, 24, 24]             190\n",
      "        LayerNorm-10           [-1, 10, 24, 24]          11,520\n",
      "        MaxPool2d-11           [-1, 10, 12, 12]               0\n",
      "           Conv2d-12           [-1, 15, 10, 10]           1,350\n",
      "             ReLU-13           [-1, 15, 10, 10]               0\n",
      "        LayerNorm-14           [-1, 15, 10, 10]           3,000\n",
      "          Dropout-15           [-1, 15, 10, 10]               0\n",
      "           Conv2d-16             [-1, 15, 8, 8]           2,025\n",
      "             ReLU-17             [-1, 15, 8, 8]               0\n",
      "        LayerNorm-18             [-1, 15, 8, 8]           1,920\n",
      "          Dropout-19             [-1, 15, 8, 8]               0\n",
      "           Conv2d-20             [-1, 15, 6, 6]           2,025\n",
      "             ReLU-21             [-1, 15, 6, 6]               0\n",
      "        LayerNorm-22             [-1, 15, 6, 6]           1,080\n",
      "          Dropout-23             [-1, 15, 6, 6]               0\n",
      "           Conv2d-24             [-1, 15, 6, 6]           2,025\n",
      "             ReLU-25             [-1, 15, 6, 6]               0\n",
      "        LayerNorm-26             [-1, 15, 6, 6]           1,080\n",
      "          Dropout-27             [-1, 15, 6, 6]               0\n",
      "        AvgPool2d-28             [-1, 15, 1, 1]               0\n",
      "           Linear-29                   [-1, 10]             150\n",
      "      BatchNorm1d-30                   [-1, 10]              20\n",
      "================================================================\n",
      "Total params: 65,125\n",
      "Trainable params: 65,125\n",
      "Non-trainable params: 0\n",
      "----------------------------------------------------------------\n",
      "Input size (MB): 0.00\n",
      "Forward/backward pass size (MB): 0.77\n",
      "Params size (MB): 0.25\n",
      "Estimated Total Size (MB): 1.02\n",
      "----------------------------------------------------------------\n"
     ]
    }
   ],
   "source": [
    "!pip install torchsummary\n",
    "from torchsummary import summary\n",
    "use_cuda = torch.cuda.is_available()\n",
    "device = torch.device(\"cuda\" if use_cuda else \"cpu\")\n",
    "print(device)\n",
    "modelLN = NetLN().to(device)\n",
    "summary(modelLN, input_size=(1, 28, 28))"
   ]
  },
  {
   "cell_type": "code",
   "execution_count": 7,
   "metadata": {},
   "outputs": [],
   "source": [
    "import torch.nn.functional as F\n",
    "dropout_value = 0.01\n",
    "\n",
    "class NetGN(nn.Module):\n",
    "    def __init__(self):\n",
    "        super(NetGN, self).__init__()\n",
    "        # Input Block\n",
    "        self.convblock1 = nn.Sequential(\n",
    "            nn.Conv2d(in_channels=1, out_channels=11, kernel_size=(3, 3), padding=0, bias=False),\n",
    "            nn.ReLU(),\n",
    "            #nn.BatchNorm2d(11),\n",
    "            nn.GroupNorm(1, 11),\n",
    "            nn.Dropout(dropout_value)\n",
    "        ) # output_size = 26\n",
    "\n",
    "        # CONVOLUTION BLOCK 1\n",
    "        self.convblock2 = nn.Sequential(\n",
    "            nn.Conv2d(in_channels=11, out_channels=19, kernel_size=(3, 3), padding=0, bias=False),\n",
    "            nn.ReLU(),\n",
    "            #nn.BatchNorm2d(19),\n",
    "            nn.GroupNorm(1, 19),\n",
    "            nn.Dropout(dropout_value)\n",
    "        ) # output_size = 24\n",
    "\n",
    "        # TRANSITION BLOCK 1\n",
    "        self.convblock3 = nn.Sequential(\n",
    "            nn.Conv2d(in_channels=19, out_channels=10, kernel_size=(1, 1), padding=0, bias=False),\n",
    "            #nn.BatchNorm2d(10),\n",
    "            nn.GroupNorm(5, 10),\n",
    "\n",
    "        ) # output_size = 24\n",
    "        self.pool1 = nn.MaxPool2d(2, 2) # output_size = 12\n",
    "\n",
    "        # CONVOLUTION BLOCK 2\n",
    "        self.convblock4 = nn.Sequential(\n",
    "            nn.Conv2d(in_channels=10, out_channels=15, kernel_size=(3, 3), padding=0, bias=False),\n",
    "            nn.ReLU(),            \n",
    "            #nn.BatchNorm2d(15),\n",
    "            nn.GroupNorm(5, 15),\n",
    "            nn.Dropout(dropout_value)\n",
    "        ) # output_size = 10\n",
    "        self.convblock5 = nn.Sequential(\n",
    "            nn.Conv2d(in_channels=15, out_channels=15, kernel_size=(3, 3), padding=0, bias=False),\n",
    "            nn.ReLU(),            \n",
    "            #nn.BatchNorm2d(15),\n",
    "            nn.GroupNorm(5, 15),\n",
    "            nn.Dropout(dropout_value)\n",
    "        ) # output_size = 8\n",
    "        self.convblock6 = nn.Sequential(\n",
    "            nn.Conv2d(in_channels=15, out_channels=15, kernel_size=(3, 3), padding=0, bias=False),\n",
    "            nn.ReLU(),            \n",
    "            #nn.BatchNorm2d(15),\n",
    "            nn.GroupNorm(5, 15),\n",
    "            nn.Dropout(dropout_value)\n",
    "        ) # output_size = 6\n",
    "        self.convblock7 = nn.Sequential(\n",
    "            nn.Conv2d(in_channels=15, out_channels=15, kernel_size=(3, 3), padding=1, bias=False),\n",
    "            nn.ReLU(),            \n",
    "            #nn.BatchNorm2d(15),\n",
    "            nn.GroupNorm(5, 15),\n",
    "            nn.Dropout(dropout_value)\n",
    "        ) # output_size = 6\n",
    "        \n",
    "        # OUTPUT BLOCK\n",
    "        self.gap = nn.Sequential(\n",
    "            nn.AvgPool2d(kernel_size=6)\n",
    "        ) # output_size = 1\n",
    "\n",
    "       \n",
    "        self.fc = nn.Sequential(\n",
    "            nn.Linear(15, 10,bias=False),\n",
    "            nn.BatchNorm1d(10),\n",
    "        )\n",
    "\n",
    "    def forward(self, x):\n",
    "        x = self.convblock1(x)\n",
    "        x = self.convblock2(x)\n",
    "        x = self.convblock3(x)\n",
    "        x = self.pool1(x)\n",
    "        x = self.convblock4(x)\n",
    "        x = self.convblock5(x)\n",
    "        x = self.convblock6(x)\n",
    "        x = self.convblock7(x)\n",
    "        x = self.gap(x)   \n",
    "        \n",
    "        x = x.view(x.size(0), -1)\n",
    "        x = self.fc(x)\n",
    "\n",
    "        return F.log_softmax(x, dim=-1)"
   ]
  },
  {
   "cell_type": "code",
   "execution_count": 8,
   "metadata": {},
   "outputs": [
    {
     "name": "stdout",
     "output_type": "stream",
     "text": [
      "----------------------------------------------------------------\n",
      "        Layer (type)               Output Shape         Param #\n",
      "================================================================\n",
      "            Conv2d-1           [-1, 11, 26, 26]              99\n",
      "              ReLU-2           [-1, 11, 26, 26]               0\n",
      "         GroupNorm-3           [-1, 11, 26, 26]              22\n",
      "           Dropout-4           [-1, 11, 26, 26]               0\n",
      "            Conv2d-5           [-1, 19, 24, 24]           1,881\n",
      "              ReLU-6           [-1, 19, 24, 24]               0\n",
      "         GroupNorm-7           [-1, 19, 24, 24]              38\n",
      "           Dropout-8           [-1, 19, 24, 24]               0\n",
      "            Conv2d-9           [-1, 10, 24, 24]             190\n",
      "        GroupNorm-10           [-1, 10, 24, 24]              20\n",
      "        MaxPool2d-11           [-1, 10, 12, 12]               0\n",
      "           Conv2d-12           [-1, 15, 10, 10]           1,350\n",
      "             ReLU-13           [-1, 15, 10, 10]               0\n",
      "        GroupNorm-14           [-1, 15, 10, 10]              30\n",
      "          Dropout-15           [-1, 15, 10, 10]               0\n",
      "           Conv2d-16             [-1, 15, 8, 8]           2,025\n",
      "             ReLU-17             [-1, 15, 8, 8]               0\n",
      "        GroupNorm-18             [-1, 15, 8, 8]              30\n",
      "          Dropout-19             [-1, 15, 8, 8]               0\n",
      "           Conv2d-20             [-1, 15, 6, 6]           2,025\n",
      "             ReLU-21             [-1, 15, 6, 6]               0\n",
      "        GroupNorm-22             [-1, 15, 6, 6]              30\n",
      "          Dropout-23             [-1, 15, 6, 6]               0\n",
      "           Conv2d-24             [-1, 15, 6, 6]           2,025\n",
      "             ReLU-25             [-1, 15, 6, 6]               0\n",
      "        GroupNorm-26             [-1, 15, 6, 6]              30\n",
      "          Dropout-27             [-1, 15, 6, 6]               0\n",
      "        AvgPool2d-28             [-1, 15, 1, 1]               0\n",
      "           Linear-29                   [-1, 10]             150\n",
      "      BatchNorm1d-30                   [-1, 10]              20\n",
      "================================================================\n",
      "Total params: 9,965\n",
      "Trainable params: 9,965\n",
      "Non-trainable params: 0\n",
      "----------------------------------------------------------------\n",
      "Input size (MB): 0.00\n",
      "Forward/backward pass size (MB): 0.77\n",
      "Params size (MB): 0.04\n",
      "Estimated Total Size (MB): 0.81\n",
      "----------------------------------------------------------------\n"
     ]
    }
   ],
   "source": [
    "modelGN = NetGN().to(device)\n",
    "summary(modelGN, input_size=(1, 28, 28))"
   ]
  },
  {
   "cell_type": "code",
   "execution_count": 9,
   "metadata": {},
   "outputs": [],
   "source": [
    "import torch.nn.functional as F\n",
    "dropout_value = 0.01\n",
    "\n",
    "class Net(nn.Module):\n",
    "    def __init__(self):\n",
    "        super(Net, self).__init__()\n",
    "        # Input Block\n",
    "        self.convblock1 = nn.Sequential(\n",
    "            nn.Conv2d(in_channels=1, out_channels=11, kernel_size=(3, 3), padding=0, bias=False),\n",
    "            nn.ReLU(),\n",
    "            nn.BatchNorm2d(11),\n",
    "            #nn.Dropout(dropout_value)\n",
    "        ) # output_size = 26\n",
    "\n",
    "        # CONVOLUTION BLOCK 1\n",
    "        self.convblock2 = nn.Sequential(\n",
    "            nn.Conv2d(in_channels=11, out_channels=19, kernel_size=(3, 3), padding=0, bias=False),\n",
    "            nn.ReLU(),\n",
    "            nn.BatchNorm2d(19),\n",
    "            #nn.Dropout(dropout_value)\n",
    "        ) # output_size = 24\n",
    "\n",
    "        # TRANSITION BLOCK 1\n",
    "        self.convblock3 = nn.Sequential(\n",
    "            nn.Conv2d(in_channels=19, out_channels=10, kernel_size=(1, 1), padding=0, bias=False),\n",
    "            nn.BatchNorm2d(10),\n",
    "\n",
    "        ) # output_size = 24\n",
    "        self.pool1 = nn.MaxPool2d(2, 2) # output_size = 12\n",
    "\n",
    "        # CONVOLUTION BLOCK 2\n",
    "        self.convblock4 = nn.Sequential(\n",
    "            nn.Conv2d(in_channels=10, out_channels=15, kernel_size=(3, 3), padding=0, bias=False),\n",
    "            nn.ReLU(),            \n",
    "            nn.BatchNorm2d(15),\n",
    "            nn.Dropout(dropout_value)\n",
    "        ) # output_size = 10\n",
    "        self.convblock5 = nn.Sequential(\n",
    "            nn.Conv2d(in_channels=15, out_channels=15, kernel_size=(3, 3), padding=0, bias=False),\n",
    "            nn.ReLU(),            \n",
    "            nn.BatchNorm2d(15),\n",
    "            nn.Dropout(dropout_value)\n",
    "        ) # output_size = 8\n",
    "        self.convblock6 = nn.Sequential(\n",
    "            nn.Conv2d(in_channels=15, out_channels=15, kernel_size=(3, 3), padding=0, bias=False),\n",
    "            nn.ReLU(),            \n",
    "            nn.BatchNorm2d(15),\n",
    "            nn.Dropout(dropout_value)\n",
    "        ) # output_size = 6\n",
    "        self.convblock7 = nn.Sequential(\n",
    "            nn.Conv2d(in_channels=15, out_channels=15, kernel_size=(3, 3), padding=1, bias=False),\n",
    "            nn.ReLU(),            \n",
    "            nn.BatchNorm2d(15),\n",
    "            nn.Dropout(dropout_value)\n",
    "        ) # output_size = 6\n",
    "        \n",
    "        # OUTPUT BLOCK\n",
    "        self.gap = nn.Sequential(\n",
    "            nn.AvgPool2d(kernel_size=6)\n",
    "        ) # output_size = 1\n",
    "       \n",
    "        self.fc = nn.Sequential(\n",
    "            nn.Linear(15, 10,bias=False),\n",
    "            nn.BatchNorm1d(10),\n",
    "        )\n",
    "\n",
    "    def forward(self, x):\n",
    "        x = self.convblock1(x)\n",
    "        x = self.convblock2(x)\n",
    "        x = self.convblock3(x)\n",
    "        x = self.pool1(x)\n",
    "        x = self.convblock4(x)\n",
    "        x = self.convblock5(x)\n",
    "        x = self.convblock6(x)\n",
    "        x = self.convblock7(x)\n",
    "        x = self.gap(x)   \n",
    "        \n",
    "        x = x.view(x.size(0), -1)\n",
    "        x = self.fc(x)\n",
    "\n",
    "        return F.log_softmax(x, dim=-1)"
   ]
  },
  {
   "cell_type": "code",
   "execution_count": 10,
   "metadata": {},
   "outputs": [
    {
     "name": "stdout",
     "output_type": "stream",
     "text": [
      "----------------------------------------------------------------\n",
      "        Layer (type)               Output Shape         Param #\n",
      "================================================================\n",
      "            Conv2d-1           [-1, 11, 26, 26]              99\n",
      "              ReLU-2           [-1, 11, 26, 26]               0\n",
      "       BatchNorm2d-3           [-1, 11, 26, 26]              22\n",
      "            Conv2d-4           [-1, 19, 24, 24]           1,881\n",
      "              ReLU-5           [-1, 19, 24, 24]               0\n",
      "       BatchNorm2d-6           [-1, 19, 24, 24]              38\n",
      "            Conv2d-7           [-1, 10, 24, 24]             190\n",
      "       BatchNorm2d-8           [-1, 10, 24, 24]              20\n",
      "         MaxPool2d-9           [-1, 10, 12, 12]               0\n",
      "           Conv2d-10           [-1, 15, 10, 10]           1,350\n",
      "             ReLU-11           [-1, 15, 10, 10]               0\n",
      "      BatchNorm2d-12           [-1, 15, 10, 10]              30\n",
      "          Dropout-13           [-1, 15, 10, 10]               0\n",
      "           Conv2d-14             [-1, 15, 8, 8]           2,025\n",
      "             ReLU-15             [-1, 15, 8, 8]               0\n",
      "      BatchNorm2d-16             [-1, 15, 8, 8]              30\n",
      "          Dropout-17             [-1, 15, 8, 8]               0\n",
      "           Conv2d-18             [-1, 15, 6, 6]           2,025\n",
      "             ReLU-19             [-1, 15, 6, 6]               0\n",
      "      BatchNorm2d-20             [-1, 15, 6, 6]              30\n",
      "          Dropout-21             [-1, 15, 6, 6]               0\n",
      "           Conv2d-22             [-1, 15, 6, 6]           2,025\n",
      "             ReLU-23             [-1, 15, 6, 6]               0\n",
      "      BatchNorm2d-24             [-1, 15, 6, 6]              30\n",
      "          Dropout-25             [-1, 15, 6, 6]               0\n",
      "        AvgPool2d-26             [-1, 15, 1, 1]               0\n",
      "           Linear-27                   [-1, 10]             150\n",
      "      BatchNorm1d-28                   [-1, 10]              20\n",
      "================================================================\n",
      "Total params: 9,965\n",
      "Trainable params: 9,965\n",
      "Non-trainable params: 0\n",
      "----------------------------------------------------------------\n",
      "Input size (MB): 0.00\n",
      "Forward/backward pass size (MB): 0.63\n",
      "Params size (MB): 0.04\n",
      "Estimated Total Size (MB): 0.67\n",
      "----------------------------------------------------------------\n"
     ]
    }
   ],
   "source": [
    "modelBNL1 = Net().to(device)\n",
    "summary(modelBNL1, input_size=(1, 28, 28))"
   ]
  },
  {
   "cell_type": "code",
   "execution_count": 11,
   "metadata": {
    "id": "fbkF2nN_LYIb"
   },
   "outputs": [],
   "source": [
    "from tqdm import tqdm\n",
    "\n",
    "train_lossesLN = []\n",
    "test_lossesLN = []\n",
    "train_accLN = []\n",
    "test_accLN = []\n",
    "\n",
    "def trainLN(model, device, train_loader, optimizer, epoch):\n",
    "  model.train()\n",
    "  pbar = tqdm(train_loader)\n",
    "  correct = 0\n",
    "  processed = 0\n",
    "  for batch_idx, (data, target) in enumerate(pbar):\n",
    "    # get samples\n",
    "    data, target = data.to(device), target.to(device)\n",
    "\n",
    "    # Init\n",
    "    optimizer.zero_grad()\n",
    "    # In PyTorch, we need to set the gradients to zero before starting to do backpropragation because PyTorch accumulates the gradients on subsequent backward passes. \n",
    "    # Because of this, when you start your training loop, ideally you should zero out the gradients so that you do the parameter update correctly.\n",
    "\n",
    "    # Predict\n",
    "    y_pred = model(data)\n",
    "\n",
    "    # Calculate loss\n",
    "    loss = F.nll_loss(y_pred, target)\n",
    "    train_lossesLN.append(loss)\n",
    "\n",
    "    # Backpropagation\n",
    "    loss.backward()\n",
    "    optimizer.step()\n",
    "\n",
    "    # Update pbar-tqdm\n",
    "    \n",
    "    pred = y_pred.argmax(dim=1, keepdim=True)  # get the index of the max log-probability\n",
    "    correct += pred.eq(target.view_as(pred)).sum().item()\n",
    "    processed += len(data)\n",
    "\n",
    "    pbar.set_description(desc= f'Loss={loss.item()} Batch_id={batch_idx} Accuracy={100*correct/processed:0.2f}')\n",
    "    train_accLN.append(100*correct/processed)\n",
    "\n",
    "def testLN(model, device, test_loader):\n",
    "    model.eval()\n",
    "    test_lossLN = 0\n",
    "    correct = 0\n",
    "    with torch.no_grad():\n",
    "        for data, target in test_loader:\n",
    "            data, target = data.to(device), target.to(device)\n",
    "            output = model(data)\n",
    "            test_lossLN += F.nll_loss(output, target, reduction='sum').item()  # sum up batch loss\n",
    "            pred = output.argmax(dim=1, keepdim=True)  # get the index of the max log-probability\n",
    "            correct += pred.eq(target.view_as(pred)).sum().item()\n",
    "\n",
    "    test_lossLN /= len(test_loader.dataset)\n",
    "    test_lossesLN.append(test_lossLN)\n",
    "\n",
    "    print('\\nTest set: Average loss: {:.4f}, Accuracy: {}/{} ({:.2f}%)\\n'.format(\n",
    "        test_lossLN, correct, len(test_loader.dataset),\n",
    "        100. * correct / len(test_loader.dataset)))\n",
    "    \n",
    "    \n",
    "    test_accLN.append(100. * correct / len(test_loader.dataset))"
   ]
  },
  {
   "cell_type": "code",
   "execution_count": 12,
   "metadata": {},
   "outputs": [],
   "source": [
    "train_lossesGN = []\n",
    "test_lossesGN = []\n",
    "train_accGN = []\n",
    "test_accGN = []\n",
    "\n",
    "def trainGN(model, device, train_loader, optimizer, epoch):\n",
    "  model.train()\n",
    "  pbar = tqdm(train_loader)\n",
    "  correct = 0\n",
    "  processed = 0\n",
    "  for batch_idx, (data, target) in enumerate(pbar):\n",
    "    # get samples\n",
    "    data, target = data.to(device), target.to(device)\n",
    "\n",
    "    # Init\n",
    "    optimizer.zero_grad()\n",
    "    # In PyTorch, we need to set the gradients to zero before starting to do backpropragation because PyTorch accumulates the gradients on subsequent backward passes. \n",
    "    # Because of this, when you start your training loop, ideally you should zero out the gradients so that you do the parameter update correctly.\n",
    "\n",
    "    # Predict\n",
    "    y_pred = model(data)\n",
    "\n",
    "    # Calculate loss\n",
    "    loss = F.nll_loss(y_pred, target)\n",
    "    train_lossesGN.append(loss)\n",
    "\n",
    "    # Backpropagation\n",
    "    loss.backward()\n",
    "    optimizer.step()\n",
    "\n",
    "    # Update pbar-tqdm\n",
    "    \n",
    "    pred = y_pred.argmax(dim=1, keepdim=True)  # get the index of the max log-probability\n",
    "    correct += pred.eq(target.view_as(pred)).sum().item()\n",
    "    processed += len(data)\n",
    "\n",
    "    pbar.set_description(desc= f'Loss={loss.item()} Batch_id={batch_idx} Accuracy={100*correct/processed:0.2f}')\n",
    "    train_accGN.append(100*correct/processed)\n",
    "\n",
    "def testGN(model, device, test_loader):\n",
    "    model.eval()\n",
    "    test_lossGN = 0\n",
    "    correct = 0\n",
    "    with torch.no_grad():\n",
    "        for data, target in test_loader:\n",
    "            data, target = data.to(device), target.to(device)\n",
    "            output = model(data)\n",
    "            test_lossGN += F.nll_loss(output, target, reduction='sum').item()  # sum up batch loss\n",
    "            pred = output.argmax(dim=1, keepdim=True)  # get the index of the max log-probability\n",
    "            correct += pred.eq(target.view_as(pred)).sum().item()\n",
    "\n",
    "    test_lossGN /= len(test_loader.dataset)\n",
    "    test_lossesGN.append(test_lossGN)\n",
    "\n",
    "    print('\\nTest set: Average loss: {:.4f}, Accuracy: {}/{} ({:.2f}%)\\n'.format(\n",
    "        test_lossGN, correct, len(test_loader.dataset),\n",
    "        100. * correct / len(test_loader.dataset)))\n",
    "    \n",
    "    \n",
    "    test_accGN.append(100. * correct / len(test_loader.dataset))"
   ]
  },
  {
   "cell_type": "code",
   "execution_count": 13,
   "metadata": {},
   "outputs": [],
   "source": [
    "from tqdm import tqdm\n",
    "from torch.autograd import Variable\n",
    "\n",
    "train_lossesBNL1 = []\n",
    "test_lossesBNL1 = []\n",
    "train_accBNL1 = []\n",
    "test_accBNL1 = []\n",
    "\n",
    "lambda_ = 0.0005\n",
    "\n",
    "def trainBNL1(model, device, train_loader, optimizer, epoch):\n",
    "  model.train()\n",
    "  pbar = tqdm(train_loader)\n",
    "  correct = 0\n",
    "  processed = 0\n",
    "  for batch_idx, (data, target) in enumerate(pbar):\n",
    "    # get samples\n",
    "    data, target = data.to(device), target.to(device)\n",
    "\n",
    "    # Init\n",
    "    optimizer.zero_grad()\n",
    "    # In PyTorch, we need to set the gradients to zero before starting to do backpropragation because PyTorch accumulates the gradients on subsequent backward passes. \n",
    "    # Because of this, when you start your training loop, ideally you should zero out the gradients so that you do the parameter update correctly.\n",
    "\n",
    "    # Predict\n",
    "    y_pred = model(data)\n",
    "\n",
    "    # Calculate loss\n",
    "    loss = F.nll_loss(y_pred, target)\n",
    "    \n",
    "    # L1 regularization  \n",
    "    #L1_norm = Variable( torch.FloatTensor(1), requires_grad=True)\n",
    "    #L1_norm = sum(w.abs().sum() for w in model.parameters())\n",
    "    #loss += lambda_ * L1_norm\n",
    "    \n",
    "    l1_reg = None\n",
    "    for w in model.parameters():\n",
    "        if l1_reg is None:\n",
    "            l1_reg = w.abs().sum()\n",
    "        else:\n",
    "            l1_reg = l1_reg + w.abs().sum()\n",
    "            \n",
    "    loss += lambda_*l1_reg\n",
    "   \n",
    "    train_lossesBNL1.append(loss)\n",
    "\n",
    "    # Backpropagation\n",
    "    loss.backward()\n",
    "    optimizer.step()\n",
    "\n",
    "    # Update pbar-tqdm\n",
    "    \n",
    "    pred = y_pred.argmax(dim=1, keepdim=True)  # get the index of the max log-probability\n",
    "    correct += pred.eq(target.view_as(pred)).sum().item()\n",
    "    processed += len(data)\n",
    "\n",
    "    pbar.set_description(desc= f'Loss={loss.item()} Batch_id={batch_idx} Accuracy={100*correct/processed:0.2f}')\n",
    "    train_accBNL1.append(100*correct/processed)\n",
    "\n",
    "def testBNL1(model, device, test_loader):\n",
    "    model.eval()\n",
    "    test_lossBNL1 = 0\n",
    "    correct = 0\n",
    "    with torch.no_grad():\n",
    "        for data, target in test_loader:\n",
    "            data, target = data.to(device), target.to(device)\n",
    "            output = model(data)\n",
    "            test_lossBNL1 += F.nll_loss(output, target, reduction='sum').item()  # sum up batch loss\n",
    "            pred = output.argmax(dim=1, keepdim=True)  # get the index of the max log-probability\n",
    "            correct += pred.eq(target.view_as(pred)).sum().item()\n",
    "\n",
    "    test_lossBNL1 /= len(test_loader.dataset)\n",
    "    test_lossesBNL1.append(test_lossBNL1)\n",
    "\n",
    "    print('\\nTest set: Average loss: {:.4f}, Accuracy: {}/{} ({:.2f}%)\\n'.format(\n",
    "        test_lossBNL1, correct, len(test_loader.dataset),\n",
    "        100. * correct / len(test_loader.dataset)))\n",
    "    \n",
    "    \n",
    "    test_accBNL1.append(100. * correct / len(test_loader.dataset))"
   ]
  },
  {
   "cell_type": "code",
   "execution_count": 14,
   "metadata": {
    "colab": {
     "base_uri": "https://localhost:8080/"
    },
    "id": "xMCFxeAKOB53",
    "outputId": "a2d7c297-1bcd-49c2-df24-cff2925e6ab9",
    "scrolled": true
   },
   "outputs": [
    {
     "name": "stdout",
     "output_type": "stream",
     "text": [
      "EPOCH: 0\n"
     ]
    },
    {
     "name": "stderr",
     "output_type": "stream",
     "text": [
      "Loss=0.18163728713989258 Batch_id=937 Accuracy=94.16: 100%|█| 938/938 [00:09<00:\n",
      "Loss=0.030739421024918556 Batch_id=937 Accuracy=94.53: 100%|█| 938/938 [00:09<00\n",
      "Loss=0.3241875171661377 Batch_id=937 Accuracy=95.49: 100%|█| 938/938 [00:11<00:0\n"
     ]
    },
    {
     "name": "stdout",
     "output_type": "stream",
     "text": [
      "\n",
      "Test set: Average loss: 0.0808, Accuracy: 9786/10000 (97.86%)\n",
      "\n",
      "\n",
      "Test set: Average loss: 0.0744, Accuracy: 9813/10000 (98.13%)\n",
      "\n",
      "\n",
      "Test set: Average loss: 0.1132, Accuracy: 9719/10000 (97.19%)\n",
      "\n",
      "EPOCH: 1\n"
     ]
    },
    {
     "name": "stderr",
     "output_type": "stream",
     "text": [
      "Loss=0.11654933542013168 Batch_id=937 Accuracy=97.46: 100%|█| 938/938 [00:09<00:\n",
      "Loss=0.11195391416549683 Batch_id=937 Accuracy=97.71: 100%|█| 938/938 [00:09<00:\n",
      "Loss=0.2320193499326706 Batch_id=937 Accuracy=97.49: 100%|█| 938/938 [00:12<00:0\n"
     ]
    },
    {
     "name": "stdout",
     "output_type": "stream",
     "text": [
      "\n",
      "Test set: Average loss: 0.0640, Accuracy: 9829/10000 (98.29%)\n",
      "\n",
      "\n",
      "Test set: Average loss: 0.0448, Accuracy: 9877/10000 (98.77%)\n",
      "\n",
      "\n",
      "Test set: Average loss: 0.0596, Accuracy: 9832/10000 (98.32%)\n",
      "\n",
      "EPOCH: 2\n"
     ]
    },
    {
     "name": "stderr",
     "output_type": "stream",
     "text": [
      "Loss=0.0281678456813097 Batch_id=937 Accuracy=98.06: 100%|█| 938/938 [00:11<00:0\n",
      "Loss=0.02552105113863945 Batch_id=937 Accuracy=98.22: 100%|█| 938/938 [00:11<00:\n",
      "Loss=0.20403914153575897 Batch_id=937 Accuracy=97.57: 100%|█| 938/938 [00:13<00:\n"
     ]
    },
    {
     "name": "stdout",
     "output_type": "stream",
     "text": [
      "\n",
      "Test set: Average loss: 0.0406, Accuracy: 9892/10000 (98.92%)\n",
      "\n",
      "\n",
      "Test set: Average loss: 0.0345, Accuracy: 9899/10000 (98.99%)\n",
      "\n",
      "\n",
      "Test set: Average loss: 0.0473, Accuracy: 9865/10000 (98.65%)\n",
      "\n",
      "EPOCH: 3\n"
     ]
    },
    {
     "name": "stderr",
     "output_type": "stream",
     "text": [
      "Loss=0.29251864552497864 Batch_id=937 Accuracy=98.36: 100%|█| 938/938 [00:11<00:\n",
      "Loss=0.03040672279894352 Batch_id=937 Accuracy=98.44: 100%|█| 938/938 [00:12<00:\n",
      "Loss=0.2299375832080841 Batch_id=937 Accuracy=97.71: 100%|█| 938/938 [00:13<00:0\n"
     ]
    },
    {
     "name": "stdout",
     "output_type": "stream",
     "text": [
      "\n",
      "Test set: Average loss: 0.0309, Accuracy: 9907/10000 (99.07%)\n",
      "\n",
      "\n",
      "Test set: Average loss: 0.0346, Accuracy: 9902/10000 (99.02%)\n",
      "\n",
      "\n",
      "Test set: Average loss: 0.0698, Accuracy: 9809/10000 (98.09%)\n",
      "\n",
      "EPOCH: 4\n"
     ]
    },
    {
     "name": "stderr",
     "output_type": "stream",
     "text": [
      "Loss=0.16467441618442535 Batch_id=937 Accuracy=98.44: 100%|█| 938/938 [00:11<00:\n",
      "Loss=0.011026114225387573 Batch_id=937 Accuracy=98.60: 100%|█| 938/938 [00:12<00\n",
      "Loss=0.5520038604736328 Batch_id=937 Accuracy=97.68: 100%|█| 938/938 [00:14<00:0\n"
     ]
    },
    {
     "name": "stdout",
     "output_type": "stream",
     "text": [
      "\n",
      "Test set: Average loss: 0.0359, Accuracy: 9894/10000 (98.94%)\n",
      "\n",
      "\n",
      "Test set: Average loss: 0.0277, Accuracy: 9922/10000 (99.22%)\n",
      "\n",
      "\n",
      "Test set: Average loss: 0.0494, Accuracy: 9858/10000 (98.58%)\n",
      "\n",
      "EPOCH: 5\n"
     ]
    },
    {
     "name": "stderr",
     "output_type": "stream",
     "text": [
      "Loss=0.05443902686238289 Batch_id=937 Accuracy=98.68: 100%|█| 938/938 [00:12<00:\n",
      "Loss=0.1611819863319397 Batch_id=937 Accuracy=98.61: 100%|█| 938/938 [00:11<00:0\n",
      "Loss=0.20503497123718262 Batch_id=937 Accuracy=97.80: 100%|█| 938/938 [00:13<00:\n"
     ]
    },
    {
     "name": "stdout",
     "output_type": "stream",
     "text": [
      "\n",
      "Test set: Average loss: 0.0301, Accuracy: 9904/10000 (99.04%)\n",
      "\n",
      "\n",
      "Test set: Average loss: 0.0236, Accuracy: 9933/10000 (99.33%)\n",
      "\n",
      "\n",
      "Test set: Average loss: 0.0316, Accuracy: 9911/10000 (99.11%)\n",
      "\n",
      "EPOCH: 6\n"
     ]
    },
    {
     "name": "stderr",
     "output_type": "stream",
     "text": [
      "Loss=0.05799667909741402 Batch_id=937 Accuracy=98.76: 100%|█| 938/938 [00:10<00:\n",
      "Loss=0.06715572625398636 Batch_id=937 Accuracy=98.81: 100%|█| 938/938 [00:11<00:\n",
      "Loss=0.35717687010765076 Batch_id=937 Accuracy=97.81: 100%|█| 938/938 [00:13<00:\n"
     ]
    },
    {
     "name": "stdout",
     "output_type": "stream",
     "text": [
      "\n",
      "Test set: Average loss: 0.0309, Accuracy: 9910/10000 (99.10%)\n",
      "\n",
      "\n",
      "Test set: Average loss: 0.0266, Accuracy: 9922/10000 (99.22%)\n",
      "\n",
      "\n",
      "Test set: Average loss: 0.0551, Accuracy: 9840/10000 (98.40%)\n",
      "\n",
      "EPOCH: 7\n"
     ]
    },
    {
     "name": "stderr",
     "output_type": "stream",
     "text": [
      "Loss=0.012605004012584686 Batch_id=937 Accuracy=98.80: 100%|█| 938/938 [00:11<00\n",
      "Loss=0.00834488496184349 Batch_id=937 Accuracy=98.85: 100%|█| 938/938 [00:11<00:\n",
      "Loss=0.3049098253250122 Batch_id=937 Accuracy=97.79: 100%|█| 938/938 [00:13<00:0\n"
     ]
    },
    {
     "name": "stdout",
     "output_type": "stream",
     "text": [
      "\n",
      "Test set: Average loss: 0.0269, Accuracy: 9921/10000 (99.21%)\n",
      "\n",
      "\n",
      "Test set: Average loss: 0.0217, Accuracy: 9939/10000 (99.39%)\n",
      "\n",
      "\n",
      "Test set: Average loss: 0.0532, Accuracy: 9846/10000 (98.46%)\n",
      "\n",
      "EPOCH: 8\n"
     ]
    },
    {
     "name": "stderr",
     "output_type": "stream",
     "text": [
      "Loss=0.0073173814453184605 Batch_id=937 Accuracy=98.85: 100%|█| 938/938 [00:10<0\n",
      "Loss=0.014510496519505978 Batch_id=937 Accuracy=98.93: 100%|█| 938/938 [00:11<00\n",
      "Loss=0.3636515736579895 Batch_id=937 Accuracy=97.84: 100%|█| 938/938 [00:13<00:0\n"
     ]
    },
    {
     "name": "stdout",
     "output_type": "stream",
     "text": [
      "\n",
      "Test set: Average loss: 0.0215, Accuracy: 9935/10000 (99.35%)\n",
      "\n",
      "\n",
      "Test set: Average loss: 0.0269, Accuracy: 9927/10000 (99.27%)\n",
      "\n",
      "\n",
      "Test set: Average loss: 0.0392, Accuracy: 9888/10000 (98.88%)\n",
      "\n",
      "EPOCH: 9\n"
     ]
    },
    {
     "name": "stderr",
     "output_type": "stream",
     "text": [
      "Loss=0.01794734224677086 Batch_id=937 Accuracy=98.97: 100%|█| 938/938 [00:12<00:\n",
      "Loss=0.005895727779716253 Batch_id=937 Accuracy=98.99: 100%|█| 938/938 [00:13<00\n",
      "Loss=0.195712149143219 Batch_id=937 Accuracy=97.85: 100%|█| 938/938 [00:15<00:00\n"
     ]
    },
    {
     "name": "stdout",
     "output_type": "stream",
     "text": [
      "\n",
      "Test set: Average loss: 0.0221, Accuracy: 9938/10000 (99.38%)\n",
      "\n",
      "\n",
      "Test set: Average loss: 0.0206, Accuracy: 9936/10000 (99.36%)\n",
      "\n",
      "\n",
      "Test set: Average loss: 0.0397, Accuracy: 9886/10000 (98.86%)\n",
      "\n",
      "EPOCH: 10\n"
     ]
    },
    {
     "name": "stderr",
     "output_type": "stream",
     "text": [
      "Loss=0.008439493365585804 Batch_id=937 Accuracy=99.03: 100%|█| 938/938 [00:12<00\n",
      "Loss=0.02303198166191578 Batch_id=937 Accuracy=99.06: 100%|█| 938/938 [00:11<00:\n",
      "Loss=0.19508467614650726 Batch_id=937 Accuracy=97.90: 100%|█| 938/938 [00:14<00:\n"
     ]
    },
    {
     "name": "stdout",
     "output_type": "stream",
     "text": [
      "\n",
      "Test set: Average loss: 0.0223, Accuracy: 9937/10000 (99.37%)\n",
      "\n",
      "\n",
      "Test set: Average loss: 0.0246, Accuracy: 9929/10000 (99.29%)\n",
      "\n",
      "\n",
      "Test set: Average loss: 0.0369, Accuracy: 9897/10000 (98.97%)\n",
      "\n",
      "EPOCH: 11\n"
     ]
    },
    {
     "name": "stderr",
     "output_type": "stream",
     "text": [
      "Loss=0.013723596930503845 Batch_id=937 Accuracy=99.05: 100%|█| 938/938 [00:12<00\n",
      "Loss=0.04221523180603981 Batch_id=937 Accuracy=99.10: 100%|█| 938/938 [00:12<00:\n",
      "Loss=0.3883270025253296 Batch_id=937 Accuracy=97.94: 100%|█| 938/938 [00:14<00:0\n"
     ]
    },
    {
     "name": "stdout",
     "output_type": "stream",
     "text": [
      "\n",
      "Test set: Average loss: 0.0213, Accuracy: 9939/10000 (99.39%)\n",
      "\n",
      "\n",
      "Test set: Average loss: 0.0201, Accuracy: 9940/10000 (99.40%)\n",
      "\n",
      "\n",
      "Test set: Average loss: 0.0608, Accuracy: 9813/10000 (98.13%)\n",
      "\n",
      "EPOCH: 12\n"
     ]
    },
    {
     "name": "stderr",
     "output_type": "stream",
     "text": [
      "Loss=0.055758360773324966 Batch_id=937 Accuracy=99.17: 100%|█| 938/938 [00:12<00\n",
      "Loss=0.03116372600197792 Batch_id=937 Accuracy=99.06: 100%|█| 938/938 [00:12<00:\n",
      "Loss=0.16160689294338226 Batch_id=937 Accuracy=97.79: 100%|█| 938/938 [00:15<00:\n"
     ]
    },
    {
     "name": "stdout",
     "output_type": "stream",
     "text": [
      "\n",
      "Test set: Average loss: 0.0224, Accuracy: 9933/10000 (99.33%)\n",
      "\n",
      "\n",
      "Test set: Average loss: 0.0238, Accuracy: 9927/10000 (99.27%)\n",
      "\n",
      "\n",
      "Test set: Average loss: 0.0486, Accuracy: 9856/10000 (98.56%)\n",
      "\n",
      "EPOCH: 13\n"
     ]
    },
    {
     "name": "stderr",
     "output_type": "stream",
     "text": [
      "Loss=0.07928912341594696 Batch_id=937 Accuracy=99.25: 100%|█| 938/938 [00:12<00:\n",
      "Loss=0.0369512140750885 Batch_id=937 Accuracy=99.17: 100%|█| 938/938 [00:11<00:0\n",
      "Loss=0.23284366726875305 Batch_id=937 Accuracy=97.91: 100%|█| 938/938 [00:13<00:\n"
     ]
    },
    {
     "name": "stdout",
     "output_type": "stream",
     "text": [
      "\n",
      "Test set: Average loss: 0.0248, Accuracy: 9925/10000 (99.25%)\n",
      "\n",
      "\n",
      "Test set: Average loss: 0.0200, Accuracy: 9944/10000 (99.44%)\n",
      "\n",
      "\n",
      "Test set: Average loss: 0.0431, Accuracy: 9865/10000 (98.65%)\n",
      "\n",
      "EPOCH: 14\n"
     ]
    },
    {
     "name": "stderr",
     "output_type": "stream",
     "text": [
      "Loss=0.009030185639858246 Batch_id=937 Accuracy=99.20: 100%|█| 938/938 [00:11<00\n",
      "Loss=0.016375096514821053 Batch_id=937 Accuracy=99.21: 100%|█| 938/938 [00:11<00\n",
      "Loss=0.5775324106216431 Batch_id=937 Accuracy=97.90: 100%|█| 938/938 [00:14<00:0\n"
     ]
    },
    {
     "name": "stdout",
     "output_type": "stream",
     "text": [
      "\n",
      "Test set: Average loss: 0.0230, Accuracy: 9934/10000 (99.34%)\n",
      "\n",
      "\n",
      "Test set: Average loss: 0.0262, Accuracy: 9922/10000 (99.22%)\n",
      "\n",
      "\n",
      "Test set: Average loss: 0.0637, Accuracy: 9814/10000 (98.14%)\n",
      "\n",
      "EPOCH: 15\n"
     ]
    },
    {
     "name": "stderr",
     "output_type": "stream",
     "text": [
      "Loss=0.0057960739359259605 Batch_id=937 Accuracy=99.22: 100%|█| 938/938 [00:11<0\n",
      "Loss=0.01026278268545866 Batch_id=937 Accuracy=99.24: 100%|█| 938/938 [00:12<00:\n",
      "Loss=0.2526845633983612 Batch_id=937 Accuracy=97.79: 100%|█| 938/938 [00:14<00:0\n"
     ]
    },
    {
     "name": "stdout",
     "output_type": "stream",
     "text": [
      "\n",
      "Test set: Average loss: 0.0233, Accuracy: 9929/10000 (99.29%)\n",
      "\n",
      "\n",
      "Test set: Average loss: 0.0229, Accuracy: 9942/10000 (99.42%)\n",
      "\n",
      "\n",
      "Test set: Average loss: 0.0491, Accuracy: 9848/10000 (98.48%)\n",
      "\n",
      "EPOCH: 16\n"
     ]
    },
    {
     "name": "stderr",
     "output_type": "stream",
     "text": [
      "Loss=0.04985710605978966 Batch_id=937 Accuracy=99.27: 100%|█| 938/938 [00:11<00:\n",
      "Loss=0.004136756528168917 Batch_id=937 Accuracy=99.24: 100%|█| 938/938 [00:11<00\n",
      "Loss=0.15607614815235138 Batch_id=937 Accuracy=97.88: 100%|█| 938/938 [00:14<00:\n"
     ]
    },
    {
     "name": "stdout",
     "output_type": "stream",
     "text": [
      "\n",
      "Test set: Average loss: 0.0219, Accuracy: 9943/10000 (99.43%)\n",
      "\n",
      "\n",
      "Test set: Average loss: 0.0212, Accuracy: 9937/10000 (99.37%)\n",
      "\n",
      "\n",
      "Test set: Average loss: 0.0448, Accuracy: 9868/10000 (98.68%)\n",
      "\n",
      "EPOCH: 17\n"
     ]
    },
    {
     "name": "stderr",
     "output_type": "stream",
     "text": [
      "Loss=0.0041382466442883015 Batch_id=937 Accuracy=99.33: 100%|█| 938/938 [00:11<0\n",
      "Loss=0.012609356082975864 Batch_id=937 Accuracy=99.24: 100%|█| 938/938 [00:11<00\n",
      "Loss=0.167902410030365 Batch_id=937 Accuracy=97.89: 100%|█| 938/938 [00:13<00:00\n"
     ]
    },
    {
     "name": "stdout",
     "output_type": "stream",
     "text": [
      "\n",
      "Test set: Average loss: 0.0183, Accuracy: 9943/10000 (99.43%)\n",
      "\n",
      "\n",
      "Test set: Average loss: 0.0201, Accuracy: 9931/10000 (99.31%)\n",
      "\n",
      "\n",
      "Test set: Average loss: 0.0517, Accuracy: 9837/10000 (98.37%)\n",
      "\n",
      "EPOCH: 18\n"
     ]
    },
    {
     "name": "stderr",
     "output_type": "stream",
     "text": [
      "Loss=0.08973267674446106 Batch_id=937 Accuracy=99.30: 100%|█| 938/938 [00:11<00:\n",
      "Loss=0.045914966613054276 Batch_id=937 Accuracy=99.33: 100%|█| 938/938 [00:11<00\n",
      "Loss=0.2899554371833801 Batch_id=937 Accuracy=97.98: 100%|█| 938/938 [00:13<00:0\n"
     ]
    },
    {
     "name": "stdout",
     "output_type": "stream",
     "text": [
      "\n",
      "Test set: Average loss: 0.0225, Accuracy: 9934/10000 (99.34%)\n",
      "\n",
      "\n",
      "Test set: Average loss: 0.0225, Accuracy: 9927/10000 (99.27%)\n",
      "\n",
      "\n",
      "Test set: Average loss: 0.0413, Accuracy: 9879/10000 (98.79%)\n",
      "\n",
      "EPOCH: 19\n"
     ]
    },
    {
     "name": "stderr",
     "output_type": "stream",
     "text": [
      "Loss=0.015332196839153767 Batch_id=937 Accuracy=99.28: 100%|█| 938/938 [00:11<00\n",
      "Loss=0.022884443402290344 Batch_id=937 Accuracy=99.36: 100%|█| 938/938 [00:11<00\n",
      "Loss=0.35976845026016235 Batch_id=937 Accuracy=97.84: 100%|█| 938/938 [00:13<00:\n"
     ]
    },
    {
     "name": "stdout",
     "output_type": "stream",
     "text": [
      "\n",
      "Test set: Average loss: 0.0206, Accuracy: 9945/10000 (99.45%)\n",
      "\n",
      "\n",
      "Test set: Average loss: 0.0194, Accuracy: 9947/10000 (99.47%)\n",
      "\n",
      "\n",
      "Test set: Average loss: 0.0442, Accuracy: 9867/10000 (98.67%)\n",
      "\n"
     ]
    }
   ],
   "source": [
    "from torch.optim.lr_scheduler import StepLR\n",
    "\n",
    "modelLN =  NetLN().to(device)\n",
    "modelGN =  NetGN().to(device)\n",
    "modelBNL1 = Net().to(device)\n",
    "\n",
    "optimizerLN = optim.SGD(modelLN.parameters(), lr=0.01, momentum=0.9)\n",
    "optimizerGN = optim.SGD(modelGN.parameters(), lr=0.01, momentum=0.9)\n",
    "optimizerBNL1 = optim.SGD(modelBNL1.parameters(), lr=0.01, momentum=0.9)\n",
    "\n",
    "\n",
    "#schedulerLN = StepLR(optimizerLN, step_size=6, gamma=0.00001)\n",
    "#schedulerGN = StepLR(optimizerGN, step_size=6, gamma=0.00001)\n",
    "#schedulerBNL1 = StepLR(optimizerBNL1, step_size=6, gamma=0.00001)\n",
    "\n",
    "\n",
    "#learning_rate = 0.01\n",
    "#optimizerLN = torch.optim.Adam(modelLN.parameters(), lr=learning_rate)\n",
    "#scheduler = StepLR(optimizer, step_size=6, gamma=0.0001)\n",
    "\n",
    "\n",
    "EPOCHS = 20\n",
    "for epoch in range(EPOCHS):\n",
    "    print(\"EPOCH:\", epoch)\n",
    "    trainLN(modelLN, device, train_loader, optimizerLN, epoch)\n",
    "    trainGN(modelGN, device, train_loader, optimizerGN, epoch)\n",
    "    trainBNL1(modelBNL1, device, train_loader, optimizerBNL1, epoch)\n",
    "    \n",
    "    #schedulerLN.step()\n",
    "    #schedulerGN.step()\n",
    "    #schedulerBNL1.step()\n",
    "\n",
    "    testLN(modelLN, device, test_loader)\n",
    "    testGN(modelGN, device, test_loader)\n",
    "    testBNL1(modelBNL1, device, test_loader)"
   ]
  },
  {
   "cell_type": "code",
   "execution_count": 20,
   "metadata": {},
   "outputs": [
    {
     "data": {
      "text/plain": [
       "<Figure size 432x288 with 0 Axes>"
      ]
     },
     "metadata": {},
     "output_type": "display_data"
    },
    {
     "data": {
      "image/png": "[encoded data removed]",
      "text/plain": [
       "<Figure size 1080x720 with 10 Axes>"
      ]
     },
     "metadata": {
      "needs_background": "light"
     },
     "output_type": "display_data"
    }
   ],
   "source": [
    "%matplotlib inline\n",
    "import matplotlib.pyplot as plt\n",
    "\n",
    "# load test data with batch size = 1 for predicting on CPU \n",
    "dataloader_args_ = dict(shuffle=False, batch_size=1)\n",
    "test_ = datasets.MNIST('./data', train=False, download=True, transform=test_transforms)\n",
    "test_loader_ = torch.utils.data.DataLoader(test_, **dataloader_args_)\n",
    "\n",
    "test_inf = datasets.MNIST('./data', train=False, download=True)\n",
    "\n",
    "# keep model to CPU\n",
    "device = torch.device(\"cpu\")\n",
    "modelLN =  modelLN.to(device)\n",
    "modelLN.eval()\n",
    "\n",
    "mismatch_label_predicted = []\n",
    "mismatch_images = []\n",
    "mismatch_tgt = []\n",
    "mismatch_index = []\n",
    "\n",
    "index = 0\n",
    "with torch.no_grad():\n",
    "    for data_, target_ in test_loader_:\n",
    "        output_ = modelLN(data_)\n",
    "        pred = output_.argmax(dim=1, keepdim=True)\n",
    "\n",
    "        if pred != target_ :\n",
    "            image,label  = test_inf[index]\n",
    "            mismatch_images.append(image)\n",
    "            mismatch_label_predicted.append(pred.item())\n",
    "            mismatch_tgt.append(target_)\n",
    "            mismatch_index.append(index)\n",
    "              \n",
    "        if len(mismatch_index) == 10:\n",
    "            break\n",
    "            \n",
    "        index += 1  \n",
    "  \n",
    "\n",
    "index = 0\n",
    "figure = plt.figure()\n",
    "plt.figure(figsize=(15,10))\n",
    "num_of_images = 10\n",
    "for index in range(1, num_of_images + 1):\n",
    "    plt.subplot(5, 2, index)\n",
    "    plt.axis('off')\n",
    "    plt.gca().set_title('True:{0},Predicted:{1},Norm:LN '.format(mismatch_tgt[index-1].item(), mismatch_label_predicted[index-1]))\n",
    "    plt.imshow(mismatch_images[index-1], cmap='gray_r')\n",
    "\n",
    "plt.savefig('LN10missmatch.jpg', bbox_inches='tight')\n"
   ]
  },
  {
   "cell_type": "code",
   "execution_count": 19,
   "metadata": {},
   "outputs": [
    {
     "data": {
      "text/plain": [
       "<Figure size 432x288 with 0 Axes>"
      ]
     },
     "metadata": {},
     "output_type": "display_data"
    },
    {
     "data": {
      "image/png": "[encoded data removed]",
      "text/plain": [
       "<Figure size 1080x720 with 10 Axes>"
      ]
     },
     "metadata": {
      "needs_background": "light"
     },
     "output_type": "display_data"
    }
   ],
   "source": [
    "%matplotlib inline\n",
    "import matplotlib.pyplot as plt\n",
    "\n",
    "# load test data with batch size = 1 for predicting on CPU \n",
    "dataloader_args_ = dict(shuffle=False, batch_size=1)\n",
    "test_ = datasets.MNIST('./data', train=False, download=True, transform=test_transforms)\n",
    "test_loader_ = torch.utils.data.DataLoader(test_, **dataloader_args_)\n",
    "\n",
    "test_inf = datasets.MNIST('./data', train=False, download=True)\n",
    "\n",
    "# keep model to CPU\n",
    "device = torch.device(\"cpu\")\n",
    "modelGN =  modelGN.to(device)\n",
    "modelGN.eval()\n",
    "\n",
    "mismatch_label_predicted = []\n",
    "mismatch_images = []\n",
    "mismatch_tgt = []\n",
    "mismatch_index = []\n",
    "\n",
    "index = 0\n",
    "with torch.no_grad():\n",
    "    for data_, target_ in test_loader_:\n",
    "        output_ = modelGN(data_)\n",
    "        pred = output_.argmax(dim=1, keepdim=True)\n",
    "\n",
    "        if pred != target_ :\n",
    "            image,label  = test_inf[index]\n",
    "            mismatch_images.append(image)\n",
    "            mismatch_label_predicted.append(pred.item())\n",
    "            mismatch_tgt.append(target_)\n",
    "            mismatch_index.append(index)\n",
    "              \n",
    "        if len(mismatch_index) == 10:\n",
    "            break\n",
    "            \n",
    "        index += 1  \n",
    "  \n",
    "\n",
    "index = 0\n",
    "figure = plt.figure()\n",
    "plt.figure(figsize=(15,10))\n",
    "num_of_images = 10\n",
    "for index in range(1, num_of_images + 1):\n",
    "    plt.subplot(5, 2, index)\n",
    "    plt.axis('off')\n",
    "    plt.gca().set_title('True:{0},Predicted:{1},Norm:GN '.format(mismatch_tgt[index-1].item(), mismatch_label_predicted[index-1]))\n",
    "    plt.imshow(mismatch_images[index-1], cmap='gray_r')\n",
    "    \n",
    "plt.savefig('GN10missmatch.jpg', bbox_inches='tight')\n"
   ]
  },
  {
   "cell_type": "code",
   "execution_count": 21,
   "metadata": {},
   "outputs": [
    {
     "data": {
      "text/plain": [
       "<Figure size 432x288 with 0 Axes>"
      ]
     },
     "metadata": {},
     "output_type": "display_data"
    },
    {
     "data": {
      "image/png": "[encoded data removed]",
      "text/plain": [
       "<Figure size 1080x720 with 10 Axes>"
      ]
     },
     "metadata": {
      "needs_background": "light"
     },
     "output_type": "display_data"
    }
   ],
   "source": [
    "%matplotlib inline\n",
    "import matplotlib.pyplot as plt\n",
    "\n",
    "# load test data with batch size = 1 for predicting on CPU \n",
    "dataloader_args_ = dict(shuffle=False, batch_size=1)\n",
    "test_ = datasets.MNIST('./data', train=False, download=True, transform=test_transforms)\n",
    "test_loader_ = torch.utils.data.DataLoader(test_, **dataloader_args_)\n",
    "\n",
    "test_inf = datasets.MNIST('./data', train=False, download=True)\n",
    "\n",
    "# keep model to CPU\n",
    "device = torch.device(\"cpu\")\n",
    "modelBNL1 =  modelBNL1.to(device)\n",
    "modelBNL1.eval()\n",
    "\n",
    "mismatch_label_predicted = []\n",
    "mismatch_images = []\n",
    "mismatch_tgt = []\n",
    "mismatch_index = []\n",
    "\n",
    "index = 0\n",
    "with torch.no_grad():\n",
    "    for data_, target_ in test_loader_:\n",
    "        output_ = modelBNL1(data_)\n",
    "        pred = output_.argmax(dim=1, keepdim=True)\n",
    "\n",
    "        if pred != target_ :\n",
    "            image,label  = test_inf[index]\n",
    "            mismatch_images.append(image)\n",
    "            mismatch_label_predicted.append(pred.item())\n",
    "            mismatch_tgt.append(target_)\n",
    "            mismatch_index.append(index)\n",
    "              \n",
    "        if len(mismatch_index) == 10:\n",
    "            break\n",
    "            \n",
    "        index += 1  \n",
    "  \n",
    "\n",
    "index = 0\n",
    "figure = plt.figure()\n",
    "plt.figure(figsize=(15,10))\n",
    "num_of_images = 10\n",
    "for index in range(1, num_of_images + 1):\n",
    "    plt.subplot(5, 2, index)\n",
    "    plt.axis('off')\n",
    "    plt.gca().set_title('True:{0},Predicted:{1},Norm:BNL1 '.format(mismatch_tgt[index-1].item(), mismatch_label_predicted[index-1]))\n",
    "    plt.imshow(mismatch_images[index-1], cmap='gray_r')\n",
    "    \n",
    "plt.savefig('BN10missmatch.jpg', bbox_inches='tight')\n"
   ]
  },
  {
   "cell_type": "code",
   "execution_count": null,
   "metadata": {},
   "outputs": [],
   "source": []
  }
 ],
 "metadata": {
  "accelerator": "GPU",
  "colab": {
   "name": "network_converge_step4.ipynb",
   "provenance": []
  },
  "kernelspec": {
   "display_name": "Python 3 (ipykernel)",
   "language": "python",
   "name": "python3"
  },
  "language_info": {
   "codemirror_mode": {
    "name": "ipython",
    "version": 3
   },
   "file_extension": ".py",
   "mimetype": "text/x-python",
   "name": "python",
   "nbconvert_exporter": "python",
   "pygments_lexer": "ipython3",
   "version": "3.8.10"
  }
 },
 "nbformat": 4,
 "nbformat_minor": 1
}
